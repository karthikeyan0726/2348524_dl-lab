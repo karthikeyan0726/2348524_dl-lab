{
  "nbformat": 4,
  "nbformat_minor": 0,
  "metadata": {
    "colab": {
      "provenance": [],
      "include_colab_link": true
    },
    "kernelspec": {
      "name": "python3",
      "display_name": "Python 3"
    },
    "language_info": {
      "name": "python"
    }
  },
  "cells": [
    {
      "cell_type": "markdown",
      "metadata": {
        "id": "view-in-github",
        "colab_type": "text"
      },
      "source": [
        "<a href=\"https://colab.research.google.com/github/karthikeyan0726/2348524_dl-lab/blob/main/2348524_DL_lab3.ipynb\" target=\"_parent\"><img src=\"https://colab.research.google.com/assets/colab-badge.svg\" alt=\"Open In Colab\"/></a>"
      ]
    },
    {
      "cell_type": "markdown",
      "source": [
        "Q1."
      ],
      "metadata": {
        "id": "HiO3ja8G2EB2"
      }
    },
    {
      "cell_type": "code",
      "execution_count": null,
      "metadata": {
        "colab": {
          "base_uri": "https://localhost:8080/"
        },
        "id": "Sx8DqjyeHmgs",
        "outputId": "d279e6a8-71dc-4abe-ede8-fb5764421296"
      },
      "outputs": [
        {
          "output_type": "stream",
          "name": "stdout",
          "text": [
            "For iteration  1  :  Price: 20  Revenue cost:  -305.40741521794996\n",
            "For iteration  2  :  Price: 9.8  Revenue cost:  -145.98\n",
            "For iteration  3  :  Price: -10.677999999999997  Revenue cost:  477.3498419999999\n"
          ]
        }
      ],
      "source": [
        "import numpy as np\n",
        "\n",
        "def eqxn(x):\n",
        "    return (0.5*(w**2))-(30*w)+(100)\n",
        "\n",
        "# derivative\n",
        "def eqxn_derivative(w):\n",
        "    return w - 30\n",
        "\n",
        "#starting value, momentum term\n",
        "w = 20\n",
        "A = 0.1\n",
        "B = 0.9\n",
        "\n",
        "#momentum initializing it to 0\n",
        "Vt=0\n",
        "#for 3 iterations\n",
        "i=3\n",
        "for iter in range(i):\n",
        "\n",
        "    a1 = eqxn_derivative(w)\n",
        "    #updating momentum\n",
        "    Vt = B * Vt + (1-B) * x\n",
        "\n",
        "\n",
        "    #to print 3 iterations.\n",
        "    print(\"For iteration \",iter+1,\" : \",\"Price:\",x, \" Revenue cost: \",cost)\n",
        "    x = x -(A * Vt - (x-30))\n",
        "    cost = eqxn(x)\n"
      ]
    },
    {
      "cell_type": "code",
      "source": [
        "#to find the optimal price\n",
        "i=500\n",
        "for iter in range(i):\n",
        "\n",
        "    a1 = eqxn_derivative(x)\n",
        "    #updating momentum\n",
        "    iv = m * iv + (1-m) * a1\n",
        "\n",
        "    x = x - A * iv\n",
        "    cost = eqxn(x)\n",
        "\n",
        "print(\"Optimal Price:\", x)"
      ],
      "metadata": {
        "colab": {
          "base_uri": "https://localhost:8080/",
          "height": 211
        },
        "id": "1SZDwMkLRKOl",
        "outputId": "122639b5-809d-455d-b45c-a7abf765099b"
      },
      "execution_count": null,
      "outputs": [
        {
          "output_type": "error",
          "ename": "NameError",
          "evalue": "name 'm' is not defined",
          "traceback": [
            "\u001b[0;31m---------------------------------------------------------------------------\u001b[0m",
            "\u001b[0;31mNameError\u001b[0m                                 Traceback (most recent call last)",
            "\u001b[0;32m<ipython-input-2-f1fbf3c4c425>\u001b[0m in \u001b[0;36m<cell line: 3>\u001b[0;34m()\u001b[0m\n\u001b[1;32m      5\u001b[0m     \u001b[0ma1\u001b[0m \u001b[0;34m=\u001b[0m \u001b[0meqxn_derivative\u001b[0m\u001b[0;34m(\u001b[0m\u001b[0mx\u001b[0m\u001b[0;34m)\u001b[0m\u001b[0;34m\u001b[0m\u001b[0;34m\u001b[0m\u001b[0m\n\u001b[1;32m      6\u001b[0m     \u001b[0;31m#updating momentum\u001b[0m\u001b[0;34m\u001b[0m\u001b[0;34m\u001b[0m\u001b[0m\n\u001b[0;32m----> 7\u001b[0;31m     \u001b[0miv\u001b[0m \u001b[0;34m=\u001b[0m \u001b[0mm\u001b[0m \u001b[0;34m*\u001b[0m \u001b[0miv\u001b[0m \u001b[0;34m+\u001b[0m \u001b[0;34m(\u001b[0m\u001b[0;36m1\u001b[0m\u001b[0;34m-\u001b[0m\u001b[0mm\u001b[0m\u001b[0;34m)\u001b[0m \u001b[0;34m*\u001b[0m \u001b[0ma1\u001b[0m\u001b[0;34m\u001b[0m\u001b[0;34m\u001b[0m\u001b[0m\n\u001b[0m\u001b[1;32m      8\u001b[0m \u001b[0;34m\u001b[0m\u001b[0m\n\u001b[1;32m      9\u001b[0m     \u001b[0mx\u001b[0m \u001b[0;34m=\u001b[0m \u001b[0mx\u001b[0m \u001b[0;34m-\u001b[0m \u001b[0mA\u001b[0m \u001b[0;34m*\u001b[0m \u001b[0miv\u001b[0m\u001b[0;34m\u001b[0m\u001b[0;34m\u001b[0m\u001b[0m\n",
            "\u001b[0;31mNameError\u001b[0m: name 'm' is not defined"
          ]
        }
      ]
    },
    {
      "cell_type": "markdown",
      "source": [
        "Q2."
      ],
      "metadata": {
        "id": "XmWOTwpsUhH8"
      }
    },
    {
      "cell_type": "code",
      "source": [
        "import pandas as pd\n",
        "import matplotlib.pyplot as plt\n",
        "import seaborn as sns\n",
        "from sklearn.preprocessing import LabelEncoder, StandardScaler\n",
        "from sklearn.model_selection import train_test_split\n",
        "from sklearn.metrics import accuracy_score, precision_score, recall_score, f1_score, confusion_matrix, roc_curve, auc\n",
        "import tensorflow as tf\n",
        "from tensorflow.keras.models import Sequential\n",
        "from tensorflow.keras.regularizers import l1, l2, l1_l2\n",
        "from tensorflow.keras.layers import Dense\n",
        "from tensorflow.keras import regularizers"
      ],
      "metadata": {
        "id": "ojn-EhQwOko8"
      },
      "execution_count": null,
      "outputs": []
    },
    {
      "cell_type": "code",
      "source": [
        "df=pd.read_csv('/content/drive/MyDrive/breast-cancer.csv')\n",
        "df"
      ],
      "metadata": {
        "colab": {
          "base_uri": "https://localhost:8080/",
          "height": 461
        },
        "id": "_pEwEuE-0SVt",
        "outputId": "0415609c-a4ca-4c60-a31c-587049dc7518"
      },
      "execution_count": null,
      "outputs": [
        {
          "output_type": "execute_result",
          "data": {
            "text/plain": [
              "           id diagnosis  radius_mean  texture_mean  perimeter_mean  area_mean  \\\n",
              "0      842302         M        17.99         10.38          122.80     1001.0   \n",
              "1      842517         M        20.57         17.77          132.90     1326.0   \n",
              "2    84300903         M        19.69         21.25          130.00     1203.0   \n",
              "3    84348301         M        11.42         20.38           77.58      386.1   \n",
              "4    84358402         M        20.29         14.34          135.10     1297.0   \n",
              "..        ...       ...          ...           ...             ...        ...   \n",
              "564    926424         M        21.56         22.39          142.00     1479.0   \n",
              "565    926682         M        20.13         28.25          131.20     1261.0   \n",
              "566    926954         M        16.60         28.08          108.30      858.1   \n",
              "567    927241         M        20.60         29.33          140.10     1265.0   \n",
              "568     92751         B         7.76         24.54           47.92      181.0   \n",
              "\n",
              "     smoothness_mean  compactness_mean  concavity_mean  concave points_mean  \\\n",
              "0            0.11840           0.27760         0.30010              0.14710   \n",
              "1            0.08474           0.07864         0.08690              0.07017   \n",
              "2            0.10960           0.15990         0.19740              0.12790   \n",
              "3            0.14250           0.28390         0.24140              0.10520   \n",
              "4            0.10030           0.13280         0.19800              0.10430   \n",
              "..               ...               ...             ...                  ...   \n",
              "564          0.11100           0.11590         0.24390              0.13890   \n",
              "565          0.09780           0.10340         0.14400              0.09791   \n",
              "566          0.08455           0.10230         0.09251              0.05302   \n",
              "567          0.11780           0.27700         0.35140              0.15200   \n",
              "568          0.05263           0.04362         0.00000              0.00000   \n",
              "\n",
              "     ...  radius_worst  texture_worst  perimeter_worst  area_worst  \\\n",
              "0    ...        25.380          17.33           184.60      2019.0   \n",
              "1    ...        24.990          23.41           158.80      1956.0   \n",
              "2    ...        23.570          25.53           152.50      1709.0   \n",
              "3    ...        14.910          26.50            98.87       567.7   \n",
              "4    ...        22.540          16.67           152.20      1575.0   \n",
              "..   ...           ...            ...              ...         ...   \n",
              "564  ...        25.450          26.40           166.10      2027.0   \n",
              "565  ...        23.690          38.25           155.00      1731.0   \n",
              "566  ...        18.980          34.12           126.70      1124.0   \n",
              "567  ...        25.740          39.42           184.60      1821.0   \n",
              "568  ...         9.456          30.37            59.16       268.6   \n",
              "\n",
              "     smoothness_worst  compactness_worst  concavity_worst  \\\n",
              "0             0.16220            0.66560           0.7119   \n",
              "1             0.12380            0.18660           0.2416   \n",
              "2             0.14440            0.42450           0.4504   \n",
              "3             0.20980            0.86630           0.6869   \n",
              "4             0.13740            0.20500           0.4000   \n",
              "..                ...                ...              ...   \n",
              "564           0.14100            0.21130           0.4107   \n",
              "565           0.11660            0.19220           0.3215   \n",
              "566           0.11390            0.30940           0.3403   \n",
              "567           0.16500            0.86810           0.9387   \n",
              "568           0.08996            0.06444           0.0000   \n",
              "\n",
              "     concave points_worst  symmetry_worst  fractal_dimension_worst  \n",
              "0                  0.2654          0.4601                  0.11890  \n",
              "1                  0.1860          0.2750                  0.08902  \n",
              "2                  0.2430          0.3613                  0.08758  \n",
              "3                  0.2575          0.6638                  0.17300  \n",
              "4                  0.1625          0.2364                  0.07678  \n",
              "..                    ...             ...                      ...  \n",
              "564                0.2216          0.2060                  0.07115  \n",
              "565                0.1628          0.2572                  0.06637  \n",
              "566                0.1418          0.2218                  0.07820  \n",
              "567                0.2650          0.4087                  0.12400  \n",
              "568                0.0000          0.2871                  0.07039  \n",
              "\n",
              "[569 rows x 32 columns]"
            ],
            "text/html": [
              "\n",
              "  <div id=\"df-95eb8a96-fa59-4af9-821b-2ad035836256\" class=\"colab-df-container\">\n",
              "    <div>\n",
              "<style scoped>\n",
              "    .dataframe tbody tr th:only-of-type {\n",
              "        vertical-align: middle;\n",
              "    }\n",
              "\n",
              "    .dataframe tbody tr th {\n",
              "        vertical-align: top;\n",
              "    }\n",
              "\n",
              "    .dataframe thead th {\n",
              "        text-align: right;\n",
              "    }\n",
              "</style>\n",
              "<table border=\"1\" class=\"dataframe\">\n",
              "  <thead>\n",
              "    <tr style=\"text-align: right;\">\n",
              "      <th></th>\n",
              "      <th>id</th>\n",
              "      <th>diagnosis</th>\n",
              "      <th>radius_mean</th>\n",
              "      <th>texture_mean</th>\n",
              "      <th>perimeter_mean</th>\n",
              "      <th>area_mean</th>\n",
              "      <th>smoothness_mean</th>\n",
              "      <th>compactness_mean</th>\n",
              "      <th>concavity_mean</th>\n",
              "      <th>concave points_mean</th>\n",
              "      <th>...</th>\n",
              "      <th>radius_worst</th>\n",
              "      <th>texture_worst</th>\n",
              "      <th>perimeter_worst</th>\n",
              "      <th>area_worst</th>\n",
              "      <th>smoothness_worst</th>\n",
              "      <th>compactness_worst</th>\n",
              "      <th>concavity_worst</th>\n",
              "      <th>concave points_worst</th>\n",
              "      <th>symmetry_worst</th>\n",
              "      <th>fractal_dimension_worst</th>\n",
              "    </tr>\n",
              "  </thead>\n",
              "  <tbody>\n",
              "    <tr>\n",
              "      <th>0</th>\n",
              "      <td>842302</td>\n",
              "      <td>M</td>\n",
              "      <td>17.99</td>\n",
              "      <td>10.38</td>\n",
              "      <td>122.80</td>\n",
              "      <td>1001.0</td>\n",
              "      <td>0.11840</td>\n",
              "      <td>0.27760</td>\n",
              "      <td>0.30010</td>\n",
              "      <td>0.14710</td>\n",
              "      <td>...</td>\n",
              "      <td>25.380</td>\n",
              "      <td>17.33</td>\n",
              "      <td>184.60</td>\n",
              "      <td>2019.0</td>\n",
              "      <td>0.16220</td>\n",
              "      <td>0.66560</td>\n",
              "      <td>0.7119</td>\n",
              "      <td>0.2654</td>\n",
              "      <td>0.4601</td>\n",
              "      <td>0.11890</td>\n",
              "    </tr>\n",
              "    <tr>\n",
              "      <th>1</th>\n",
              "      <td>842517</td>\n",
              "      <td>M</td>\n",
              "      <td>20.57</td>\n",
              "      <td>17.77</td>\n",
              "      <td>132.90</td>\n",
              "      <td>1326.0</td>\n",
              "      <td>0.08474</td>\n",
              "      <td>0.07864</td>\n",
              "      <td>0.08690</td>\n",
              "      <td>0.07017</td>\n",
              "      <td>...</td>\n",
              "      <td>24.990</td>\n",
              "      <td>23.41</td>\n",
              "      <td>158.80</td>\n",
              "      <td>1956.0</td>\n",
              "      <td>0.12380</td>\n",
              "      <td>0.18660</td>\n",
              "      <td>0.2416</td>\n",
              "      <td>0.1860</td>\n",
              "      <td>0.2750</td>\n",
              "      <td>0.08902</td>\n",
              "    </tr>\n",
              "    <tr>\n",
              "      <th>2</th>\n",
              "      <td>84300903</td>\n",
              "      <td>M</td>\n",
              "      <td>19.69</td>\n",
              "      <td>21.25</td>\n",
              "      <td>130.00</td>\n",
              "      <td>1203.0</td>\n",
              "      <td>0.10960</td>\n",
              "      <td>0.15990</td>\n",
              "      <td>0.19740</td>\n",
              "      <td>0.12790</td>\n",
              "      <td>...</td>\n",
              "      <td>23.570</td>\n",
              "      <td>25.53</td>\n",
              "      <td>152.50</td>\n",
              "      <td>1709.0</td>\n",
              "      <td>0.14440</td>\n",
              "      <td>0.42450</td>\n",
              "      <td>0.4504</td>\n",
              "      <td>0.2430</td>\n",
              "      <td>0.3613</td>\n",
              "      <td>0.08758</td>\n",
              "    </tr>\n",
              "    <tr>\n",
              "      <th>3</th>\n",
              "      <td>84348301</td>\n",
              "      <td>M</td>\n",
              "      <td>11.42</td>\n",
              "      <td>20.38</td>\n",
              "      <td>77.58</td>\n",
              "      <td>386.1</td>\n",
              "      <td>0.14250</td>\n",
              "      <td>0.28390</td>\n",
              "      <td>0.24140</td>\n",
              "      <td>0.10520</td>\n",
              "      <td>...</td>\n",
              "      <td>14.910</td>\n",
              "      <td>26.50</td>\n",
              "      <td>98.87</td>\n",
              "      <td>567.7</td>\n",
              "      <td>0.20980</td>\n",
              "      <td>0.86630</td>\n",
              "      <td>0.6869</td>\n",
              "      <td>0.2575</td>\n",
              "      <td>0.6638</td>\n",
              "      <td>0.17300</td>\n",
              "    </tr>\n",
              "    <tr>\n",
              "      <th>4</th>\n",
              "      <td>84358402</td>\n",
              "      <td>M</td>\n",
              "      <td>20.29</td>\n",
              "      <td>14.34</td>\n",
              "      <td>135.10</td>\n",
              "      <td>1297.0</td>\n",
              "      <td>0.10030</td>\n",
              "      <td>0.13280</td>\n",
              "      <td>0.19800</td>\n",
              "      <td>0.10430</td>\n",
              "      <td>...</td>\n",
              "      <td>22.540</td>\n",
              "      <td>16.67</td>\n",
              "      <td>152.20</td>\n",
              "      <td>1575.0</td>\n",
              "      <td>0.13740</td>\n",
              "      <td>0.20500</td>\n",
              "      <td>0.4000</td>\n",
              "      <td>0.1625</td>\n",
              "      <td>0.2364</td>\n",
              "      <td>0.07678</td>\n",
              "    </tr>\n",
              "    <tr>\n",
              "      <th>...</th>\n",
              "      <td>...</td>\n",
              "      <td>...</td>\n",
              "      <td>...</td>\n",
              "      <td>...</td>\n",
              "      <td>...</td>\n",
              "      <td>...</td>\n",
              "      <td>...</td>\n",
              "      <td>...</td>\n",
              "      <td>...</td>\n",
              "      <td>...</td>\n",
              "      <td>...</td>\n",
              "      <td>...</td>\n",
              "      <td>...</td>\n",
              "      <td>...</td>\n",
              "      <td>...</td>\n",
              "      <td>...</td>\n",
              "      <td>...</td>\n",
              "      <td>...</td>\n",
              "      <td>...</td>\n",
              "      <td>...</td>\n",
              "      <td>...</td>\n",
              "    </tr>\n",
              "    <tr>\n",
              "      <th>564</th>\n",
              "      <td>926424</td>\n",
              "      <td>M</td>\n",
              "      <td>21.56</td>\n",
              "      <td>22.39</td>\n",
              "      <td>142.00</td>\n",
              "      <td>1479.0</td>\n",
              "      <td>0.11100</td>\n",
              "      <td>0.11590</td>\n",
              "      <td>0.24390</td>\n",
              "      <td>0.13890</td>\n",
              "      <td>...</td>\n",
              "      <td>25.450</td>\n",
              "      <td>26.40</td>\n",
              "      <td>166.10</td>\n",
              "      <td>2027.0</td>\n",
              "      <td>0.14100</td>\n",
              "      <td>0.21130</td>\n",
              "      <td>0.4107</td>\n",
              "      <td>0.2216</td>\n",
              "      <td>0.2060</td>\n",
              "      <td>0.07115</td>\n",
              "    </tr>\n",
              "    <tr>\n",
              "      <th>565</th>\n",
              "      <td>926682</td>\n",
              "      <td>M</td>\n",
              "      <td>20.13</td>\n",
              "      <td>28.25</td>\n",
              "      <td>131.20</td>\n",
              "      <td>1261.0</td>\n",
              "      <td>0.09780</td>\n",
              "      <td>0.10340</td>\n",
              "      <td>0.14400</td>\n",
              "      <td>0.09791</td>\n",
              "      <td>...</td>\n",
              "      <td>23.690</td>\n",
              "      <td>38.25</td>\n",
              "      <td>155.00</td>\n",
              "      <td>1731.0</td>\n",
              "      <td>0.11660</td>\n",
              "      <td>0.19220</td>\n",
              "      <td>0.3215</td>\n",
              "      <td>0.1628</td>\n",
              "      <td>0.2572</td>\n",
              "      <td>0.06637</td>\n",
              "    </tr>\n",
              "    <tr>\n",
              "      <th>566</th>\n",
              "      <td>926954</td>\n",
              "      <td>M</td>\n",
              "      <td>16.60</td>\n",
              "      <td>28.08</td>\n",
              "      <td>108.30</td>\n",
              "      <td>858.1</td>\n",
              "      <td>0.08455</td>\n",
              "      <td>0.10230</td>\n",
              "      <td>0.09251</td>\n",
              "      <td>0.05302</td>\n",
              "      <td>...</td>\n",
              "      <td>18.980</td>\n",
              "      <td>34.12</td>\n",
              "      <td>126.70</td>\n",
              "      <td>1124.0</td>\n",
              "      <td>0.11390</td>\n",
              "      <td>0.30940</td>\n",
              "      <td>0.3403</td>\n",
              "      <td>0.1418</td>\n",
              "      <td>0.2218</td>\n",
              "      <td>0.07820</td>\n",
              "    </tr>\n",
              "    <tr>\n",
              "      <th>567</th>\n",
              "      <td>927241</td>\n",
              "      <td>M</td>\n",
              "      <td>20.60</td>\n",
              "      <td>29.33</td>\n",
              "      <td>140.10</td>\n",
              "      <td>1265.0</td>\n",
              "      <td>0.11780</td>\n",
              "      <td>0.27700</td>\n",
              "      <td>0.35140</td>\n",
              "      <td>0.15200</td>\n",
              "      <td>...</td>\n",
              "      <td>25.740</td>\n",
              "      <td>39.42</td>\n",
              "      <td>184.60</td>\n",
              "      <td>1821.0</td>\n",
              "      <td>0.16500</td>\n",
              "      <td>0.86810</td>\n",
              "      <td>0.9387</td>\n",
              "      <td>0.2650</td>\n",
              "      <td>0.4087</td>\n",
              "      <td>0.12400</td>\n",
              "    </tr>\n",
              "    <tr>\n",
              "      <th>568</th>\n",
              "      <td>92751</td>\n",
              "      <td>B</td>\n",
              "      <td>7.76</td>\n",
              "      <td>24.54</td>\n",
              "      <td>47.92</td>\n",
              "      <td>181.0</td>\n",
              "      <td>0.05263</td>\n",
              "      <td>0.04362</td>\n",
              "      <td>0.00000</td>\n",
              "      <td>0.00000</td>\n",
              "      <td>...</td>\n",
              "      <td>9.456</td>\n",
              "      <td>30.37</td>\n",
              "      <td>59.16</td>\n",
              "      <td>268.6</td>\n",
              "      <td>0.08996</td>\n",
              "      <td>0.06444</td>\n",
              "      <td>0.0000</td>\n",
              "      <td>0.0000</td>\n",
              "      <td>0.2871</td>\n",
              "      <td>0.07039</td>\n",
              "    </tr>\n",
              "  </tbody>\n",
              "</table>\n",
              "<p>569 rows × 32 columns</p>\n",
              "</div>\n",
              "    <div class=\"colab-df-buttons\">\n",
              "\n",
              "  <div class=\"colab-df-container\">\n",
              "    <button class=\"colab-df-convert\" onclick=\"convertToInteractive('df-95eb8a96-fa59-4af9-821b-2ad035836256')\"\n",
              "            title=\"Convert this dataframe to an interactive table.\"\n",
              "            style=\"display:none;\">\n",
              "\n",
              "  <svg xmlns=\"http://www.w3.org/2000/svg\" height=\"24px\" viewBox=\"0 -960 960 960\">\n",
              "    <path d=\"M120-120v-720h720v720H120Zm60-500h600v-160H180v160Zm220 220h160v-160H400v160Zm0 220h160v-160H400v160ZM180-400h160v-160H180v160Zm440 0h160v-160H620v160ZM180-180h160v-160H180v160Zm440 0h160v-160H620v160Z\"/>\n",
              "  </svg>\n",
              "    </button>\n",
              "\n",
              "  <style>\n",
              "    .colab-df-container {\n",
              "      display:flex;\n",
              "      gap: 12px;\n",
              "    }\n",
              "\n",
              "    .colab-df-convert {\n",
              "      background-color: #E8F0FE;\n",
              "      border: none;\n",
              "      border-radius: 50%;\n",
              "      cursor: pointer;\n",
              "      display: none;\n",
              "      fill: #1967D2;\n",
              "      height: 32px;\n",
              "      padding: 0 0 0 0;\n",
              "      width: 32px;\n",
              "    }\n",
              "\n",
              "    .colab-df-convert:hover {\n",
              "      background-color: #E2EBFA;\n",
              "      box-shadow: 0px 1px 2px rgba(60, 64, 67, 0.3), 0px 1px 3px 1px rgba(60, 64, 67, 0.15);\n",
              "      fill: #174EA6;\n",
              "    }\n",
              "\n",
              "    .colab-df-buttons div {\n",
              "      margin-bottom: 4px;\n",
              "    }\n",
              "\n",
              "    [theme=dark] .colab-df-convert {\n",
              "      background-color: #3B4455;\n",
              "      fill: #D2E3FC;\n",
              "    }\n",
              "\n",
              "    [theme=dark] .colab-df-convert:hover {\n",
              "      background-color: #434B5C;\n",
              "      box-shadow: 0px 1px 3px 1px rgba(0, 0, 0, 0.15);\n",
              "      filter: drop-shadow(0px 1px 2px rgba(0, 0, 0, 0.3));\n",
              "      fill: #FFFFFF;\n",
              "    }\n",
              "  </style>\n",
              "\n",
              "    <script>\n",
              "      const buttonEl =\n",
              "        document.querySelector('#df-95eb8a96-fa59-4af9-821b-2ad035836256 button.colab-df-convert');\n",
              "      buttonEl.style.display =\n",
              "        google.colab.kernel.accessAllowed ? 'block' : 'none';\n",
              "\n",
              "      async function convertToInteractive(key) {\n",
              "        const element = document.querySelector('#df-95eb8a96-fa59-4af9-821b-2ad035836256');\n",
              "        const dataTable =\n",
              "          await google.colab.kernel.invokeFunction('convertToInteractive',\n",
              "                                                    [key], {});\n",
              "        if (!dataTable) return;\n",
              "\n",
              "        const docLinkHtml = 'Like what you see? Visit the ' +\n",
              "          '<a target=\"_blank\" href=https://colab.research.google.com/notebooks/data_table.ipynb>data table notebook</a>'\n",
              "          + ' to learn more about interactive tables.';\n",
              "        element.innerHTML = '';\n",
              "        dataTable['output_type'] = 'display_data';\n",
              "        await google.colab.output.renderOutput(dataTable, element);\n",
              "        const docLink = document.createElement('div');\n",
              "        docLink.innerHTML = docLinkHtml;\n",
              "        element.appendChild(docLink);\n",
              "      }\n",
              "    </script>\n",
              "  </div>\n",
              "\n",
              "\n",
              "<div id=\"df-f704dad8-df5e-40f4-be54-6c2009664620\">\n",
              "  <button class=\"colab-df-quickchart\" onclick=\"quickchart('df-f704dad8-df5e-40f4-be54-6c2009664620')\"\n",
              "            title=\"Suggest charts\"\n",
              "            style=\"display:none;\">\n",
              "\n",
              "<svg xmlns=\"http://www.w3.org/2000/svg\" height=\"24px\"viewBox=\"0 0 24 24\"\n",
              "     width=\"24px\">\n",
              "    <g>\n",
              "        <path d=\"M19 3H5c-1.1 0-2 .9-2 2v14c0 1.1.9 2 2 2h14c1.1 0 2-.9 2-2V5c0-1.1-.9-2-2-2zM9 17H7v-7h2v7zm4 0h-2V7h2v10zm4 0h-2v-4h2v4z\"/>\n",
              "    </g>\n",
              "</svg>\n",
              "  </button>\n",
              "\n",
              "<style>\n",
              "  .colab-df-quickchart {\n",
              "      --bg-color: #E8F0FE;\n",
              "      --fill-color: #1967D2;\n",
              "      --hover-bg-color: #E2EBFA;\n",
              "      --hover-fill-color: #174EA6;\n",
              "      --disabled-fill-color: #AAA;\n",
              "      --disabled-bg-color: #DDD;\n",
              "  }\n",
              "\n",
              "  [theme=dark] .colab-df-quickchart {\n",
              "      --bg-color: #3B4455;\n",
              "      --fill-color: #D2E3FC;\n",
              "      --hover-bg-color: #434B5C;\n",
              "      --hover-fill-color: #FFFFFF;\n",
              "      --disabled-bg-color: #3B4455;\n",
              "      --disabled-fill-color: #666;\n",
              "  }\n",
              "\n",
              "  .colab-df-quickchart {\n",
              "    background-color: var(--bg-color);\n",
              "    border: none;\n",
              "    border-radius: 50%;\n",
              "    cursor: pointer;\n",
              "    display: none;\n",
              "    fill: var(--fill-color);\n",
              "    height: 32px;\n",
              "    padding: 0;\n",
              "    width: 32px;\n",
              "  }\n",
              "\n",
              "  .colab-df-quickchart:hover {\n",
              "    background-color: var(--hover-bg-color);\n",
              "    box-shadow: 0 1px 2px rgba(60, 64, 67, 0.3), 0 1px 3px 1px rgba(60, 64, 67, 0.15);\n",
              "    fill: var(--button-hover-fill-color);\n",
              "  }\n",
              "\n",
              "  .colab-df-quickchart-complete:disabled,\n",
              "  .colab-df-quickchart-complete:disabled:hover {\n",
              "    background-color: var(--disabled-bg-color);\n",
              "    fill: var(--disabled-fill-color);\n",
              "    box-shadow: none;\n",
              "  }\n",
              "\n",
              "  .colab-df-spinner {\n",
              "    border: 2px solid var(--fill-color);\n",
              "    border-color: transparent;\n",
              "    border-bottom-color: var(--fill-color);\n",
              "    animation:\n",
              "      spin 1s steps(1) infinite;\n",
              "  }\n",
              "\n",
              "  @keyframes spin {\n",
              "    0% {\n",
              "      border-color: transparent;\n",
              "      border-bottom-color: var(--fill-color);\n",
              "      border-left-color: var(--fill-color);\n",
              "    }\n",
              "    20% {\n",
              "      border-color: transparent;\n",
              "      border-left-color: var(--fill-color);\n",
              "      border-top-color: var(--fill-color);\n",
              "    }\n",
              "    30% {\n",
              "      border-color: transparent;\n",
              "      border-left-color: var(--fill-color);\n",
              "      border-top-color: var(--fill-color);\n",
              "      border-right-color: var(--fill-color);\n",
              "    }\n",
              "    40% {\n",
              "      border-color: transparent;\n",
              "      border-right-color: var(--fill-color);\n",
              "      border-top-color: var(--fill-color);\n",
              "    }\n",
              "    60% {\n",
              "      border-color: transparent;\n",
              "      border-right-color: var(--fill-color);\n",
              "    }\n",
              "    80% {\n",
              "      border-color: transparent;\n",
              "      border-right-color: var(--fill-color);\n",
              "      border-bottom-color: var(--fill-color);\n",
              "    }\n",
              "    90% {\n",
              "      border-color: transparent;\n",
              "      border-bottom-color: var(--fill-color);\n",
              "    }\n",
              "  }\n",
              "</style>\n",
              "\n",
              "  <script>\n",
              "    async function quickchart(key) {\n",
              "      const quickchartButtonEl =\n",
              "        document.querySelector('#' + key + ' button');\n",
              "      quickchartButtonEl.disabled = true;  // To prevent multiple clicks.\n",
              "      quickchartButtonEl.classList.add('colab-df-spinner');\n",
              "      try {\n",
              "        const charts = await google.colab.kernel.invokeFunction(\n",
              "            'suggestCharts', [key], {});\n",
              "      } catch (error) {\n",
              "        console.error('Error during call to suggestCharts:', error);\n",
              "      }\n",
              "      quickchartButtonEl.classList.remove('colab-df-spinner');\n",
              "      quickchartButtonEl.classList.add('colab-df-quickchart-complete');\n",
              "    }\n",
              "    (() => {\n",
              "      let quickchartButtonEl =\n",
              "        document.querySelector('#df-f704dad8-df5e-40f4-be54-6c2009664620 button');\n",
              "      quickchartButtonEl.style.display =\n",
              "        google.colab.kernel.accessAllowed ? 'block' : 'none';\n",
              "    })();\n",
              "  </script>\n",
              "</div>\n",
              "    </div>\n",
              "  </div>\n"
            ],
            "application/vnd.google.colaboratory.intrinsic+json": {
              "type": "dataframe",
              "variable_name": "df"
            }
          },
          "metadata": {},
          "execution_count": 4
        }
      ]
    },
    {
      "cell_type": "code",
      "source": [
        "df.shape"
      ],
      "metadata": {
        "colab": {
          "base_uri": "https://localhost:8080/"
        },
        "id": "d65AbajK5vUN",
        "outputId": "a02873e8-b312-48ba-88df-586102c7582d"
      },
      "execution_count": null,
      "outputs": [
        {
          "output_type": "execute_result",
          "data": {
            "text/plain": [
              "(569, 32)"
            ]
          },
          "metadata": {},
          "execution_count": 5
        }
      ]
    },
    {
      "cell_type": "code",
      "source": [
        "df.dtypes"
      ],
      "metadata": {
        "colab": {
          "base_uri": "https://localhost:8080/"
        },
        "id": "nzy7j6Dj5o_S",
        "outputId": "7ef75903-9fe2-412a-fab6-893578dca363"
      },
      "execution_count": null,
      "outputs": [
        {
          "output_type": "execute_result",
          "data": {
            "text/plain": [
              "id                           int64\n",
              "diagnosis                   object\n",
              "radius_mean                float64\n",
              "texture_mean               float64\n",
              "perimeter_mean             float64\n",
              "area_mean                  float64\n",
              "smoothness_mean            float64\n",
              "compactness_mean           float64\n",
              "concavity_mean             float64\n",
              "concave points_mean        float64\n",
              "symmetry_mean              float64\n",
              "fractal_dimension_mean     float64\n",
              "radius_se                  float64\n",
              "texture_se                 float64\n",
              "perimeter_se               float64\n",
              "area_se                    float64\n",
              "smoothness_se              float64\n",
              "compactness_se             float64\n",
              "concavity_se               float64\n",
              "concave points_se          float64\n",
              "symmetry_se                float64\n",
              "fractal_dimension_se       float64\n",
              "radius_worst               float64\n",
              "texture_worst              float64\n",
              "perimeter_worst            float64\n",
              "area_worst                 float64\n",
              "smoothness_worst           float64\n",
              "compactness_worst          float64\n",
              "concavity_worst            float64\n",
              "concave points_worst       float64\n",
              "symmetry_worst             float64\n",
              "fractal_dimension_worst    float64\n",
              "dtype: object"
            ]
          },
          "metadata": {},
          "execution_count": 6
        }
      ]
    },
    {
      "cell_type": "code",
      "source": [
        "df.isnull().sum()"
      ],
      "metadata": {
        "colab": {
          "base_uri": "https://localhost:8080/"
        },
        "id": "Itj2gVdr5sG8",
        "outputId": "11a690b9-4b3e-438a-b884-8cb5938bd64f"
      },
      "execution_count": null,
      "outputs": [
        {
          "output_type": "execute_result",
          "data": {
            "text/plain": [
              "id                         0\n",
              "diagnosis                  0\n",
              "radius_mean                0\n",
              "texture_mean               0\n",
              "perimeter_mean             0\n",
              "area_mean                  0\n",
              "smoothness_mean            0\n",
              "compactness_mean           0\n",
              "concavity_mean             0\n",
              "concave points_mean        0\n",
              "symmetry_mean              0\n",
              "fractal_dimension_mean     0\n",
              "radius_se                  0\n",
              "texture_se                 0\n",
              "perimeter_se               0\n",
              "area_se                    0\n",
              "smoothness_se              0\n",
              "compactness_se             0\n",
              "concavity_se               0\n",
              "concave points_se          0\n",
              "symmetry_se                0\n",
              "fractal_dimension_se       0\n",
              "radius_worst               0\n",
              "texture_worst              0\n",
              "perimeter_worst            0\n",
              "area_worst                 0\n",
              "smoothness_worst           0\n",
              "compactness_worst          0\n",
              "concavity_worst            0\n",
              "concave points_worst       0\n",
              "symmetry_worst             0\n",
              "fractal_dimension_worst    0\n",
              "dtype: int64"
            ]
          },
          "metadata": {},
          "execution_count": 7
        }
      ]
    },
    {
      "cell_type": "markdown",
      "source": [
        "No missing values"
      ],
      "metadata": {
        "id": "CKCvXl9y6W2e"
      }
    },
    {
      "cell_type": "markdown",
      "source": [
        "Target Columns:\n",
        "\n",
        "diagnosis\n",
        "\n",
        "whether tumor is malignant or benign\n",
        "Malignant is cancerous while benign is not."
      ],
      "metadata": {
        "id": "Uy3Fp-PT8LxW"
      }
    },
    {
      "cell_type": "markdown",
      "source": [
        "Checking for unbalanced Data"
      ],
      "metadata": {
        "id": "eco2tyFH8quf"
      }
    },
    {
      "cell_type": "code",
      "source": [
        "diag = df[\"diagnosis\"].value_counts()\n",
        "plt.figure(figsize=(10, 6))\n",
        "plt.subplot(1, 2, 1)\n",
        "plt.pie(diag, labels=[\"Malignant\", \"Benign\"], autopct=\"%.2f%%\")\n",
        "plt.title(\"Cancer Counts\")\n",
        "plt.tight_layout()\n",
        "plt.show()"
      ],
      "metadata": {
        "colab": {
          "base_uri": "https://localhost:8080/",
          "height": 536
        },
        "id": "whSldqWh5wol",
        "outputId": "16afe096-09a4-4553-b0ed-ba9da2ab4ae0"
      },
      "execution_count": null,
      "outputs": [
        {
          "output_type": "display_data",
          "data": {
            "text/plain": [
              "<Figure size 1000x600 with 1 Axes>"
            ],
            "image/png": "[encoded data removed]"
          },
          "metadata": {}
        }
      ]
    },
    {
      "cell_type": "markdown",
      "source": [
        "not much imbalance is there so not needed."
      ],
      "metadata": {
        "id": "VWjlyTpR9JXt"
      }
    },
    {
      "cell_type": "code",
      "source": [
        "le = LabelEncoder()\n",
        "for column in df.columns:\n",
        "    if df[column].dtype == 'object':\n",
        "        df[column] = le.fit_transform(df[column])"
      ],
      "metadata": {
        "id": "f4AsuLHg9HKE"
      },
      "execution_count": null,
      "outputs": []
    },
    {
      "cell_type": "code",
      "source": [
        "df.dtypes"
      ],
      "metadata": {
        "colab": {
          "base_uri": "https://localhost:8080/"
        },
        "id": "ctCtPV_Z9etc",
        "outputId": "4645ffc8-42a3-4e86-acd7-943c166d1b09"
      },
      "execution_count": null,
      "outputs": [
        {
          "output_type": "execute_result",
          "data": {
            "text/plain": [
              "id                           int64\n",
              "diagnosis                    int64\n",
              "radius_mean                float64\n",
              "texture_mean               float64\n",
              "perimeter_mean             float64\n",
              "area_mean                  float64\n",
              "smoothness_mean            float64\n",
              "compactness_mean           float64\n",
              "concavity_mean             float64\n",
              "concave points_mean        float64\n",
              "symmetry_mean              float64\n",
              "fractal_dimension_mean     float64\n",
              "radius_se                  float64\n",
              "texture_se                 float64\n",
              "perimeter_se               float64\n",
              "area_se                    float64\n",
              "smoothness_se              float64\n",
              "compactness_se             float64\n",
              "concavity_se               float64\n",
              "concave points_se          float64\n",
              "symmetry_se                float64\n",
              "fractal_dimension_se       float64\n",
              "radius_worst               float64\n",
              "texture_worst              float64\n",
              "perimeter_worst            float64\n",
              "area_worst                 float64\n",
              "smoothness_worst           float64\n",
              "compactness_worst          float64\n",
              "concavity_worst            float64\n",
              "concave points_worst       float64\n",
              "symmetry_worst             float64\n",
              "fractal_dimension_worst    float64\n",
              "dtype: object"
            ]
          },
          "metadata": {},
          "execution_count": 11
        }
      ]
    },
    {
      "cell_type": "markdown",
      "source": [
        "Training and Testing"
      ],
      "metadata": {
        "id": "LTBE19c6-jK8"
      }
    },
    {
      "cell_type": "markdown",
      "source": [
        "ID will be uniue so not that much used so dropping it."
      ],
      "metadata": {
        "id": "A7zMbf839lQP"
      }
    },
    {
      "cell_type": "code",
      "source": [
        "X = df.drop(columns=['diagnosis', 'id'])\n",
        "y = df['diagnosis']\n",
        "\n",
        "# training and testing dataset\n",
        "X_train, X_test, y_train, y_test = train_test_split(X, y, test_size=0.2, random_state=42)"
      ],
      "metadata": {
        "id": "uBRSF3c998-p"
      },
      "execution_count": null,
      "outputs": []
    },
    {
      "cell_type": "markdown",
      "source": [
        "Scaling"
      ],
      "metadata": {
        "id": "XPbfDk_e-a7u"
      }
    },
    {
      "cell_type": "code",
      "source": [
        "scaler = StandardScaler()\n",
        "X_train = scaler.fit_transform(X_train)\n",
        "X_test = scaler.transform(X_test)"
      ],
      "metadata": {
        "id": "gIVnfntqAAKe"
      },
      "execution_count": null,
      "outputs": []
    },
    {
      "cell_type": "markdown",
      "source": [
        "Model building"
      ],
      "metadata": {
        "id": "fNOCfzMvALCO"
      }
    },
    {
      "cell_type": "code",
      "source": [
        "model = Sequential()\n",
        "model.add(Dense(128, input_dim=X_train.shape[1], activation='relu', kernel_regularizer=regularizers.l1(0.01)))\n",
        "model.add(Dense(64, activation='relu', kernel_regularizer=regularizers.l2(0.01)))\n",
        "model.add(Dense(1, activation='sigmoid'))"
      ],
      "metadata": {
        "id": "zLkSY3kyAJZY"
      },
      "execution_count": null,
      "outputs": []
    },
    {
      "cell_type": "code",
      "source": [
        "model2 = Sequential()\n",
        "model2.add(Dense(128, input_dim=X_train.shape[1], activation='relu', kernel_regularizer=regularizers.l2(0.01)))\n",
        "model2.add(Dense(64, activation='relu', kernel_regularizer=regularizers.l2(0.01)))\n",
        "model2.add(Dense(1, activation='sigmoid'))"
      ],
      "metadata": {
        "id": "TxhR9w2CEgnq"
      },
      "execution_count": null,
      "outputs": []
    },
    {
      "cell_type": "code",
      "source": [
        "model3 = Sequential()\n",
        "model3.add(Dense(128, input_dim=X_train.shape[1], activation='relu', kernel_regularizer=l1_l2(l1=0.01, l2=0.01)))\n",
        "model3.add(Dense(64, activation='relu', kernel_regularizer=l1_l2(l1=0.01, l2=0.01)))\n",
        "model3.add(Dense(1, activation='sigmoid'))"
      ],
      "metadata": {
        "id": "iUgaAcTIEpsm"
      },
      "execution_count": null,
      "outputs": []
    },
    {
      "cell_type": "code",
      "source": [
        "#Adam optimizer\n",
        "model.compile(optimizer='adam', loss='binary_crossentropy', metrics=['accuracy'])\n",
        "model2.compile(optimizer='adam', loss='binary_crossentropy', metrics=['accuracy'])\n",
        "model3.compile(optimizer='adam', loss='binary_crossentropy', metrics=['accuracy'])"
      ],
      "metadata": {
        "id": "UB9z2YrFAnUq"
      },
      "execution_count": null,
      "outputs": []
    },
    {
      "cell_type": "code",
      "source": [
        "#model training\n",
        "mt = model.fit(X_train, y_train, epochs=100, batch_size=32, validation_split=0.2)"
      ],
      "metadata": {
        "colab": {
          "base_uri": "https://localhost:8080/"
        },
        "id": "Nr9B1DanAzeE",
        "outputId": "6a54badf-550a-4da1-e387-a5602edf348e"
      },
      "execution_count": null,
      "outputs": [
        {
          "output_type": "stream",
          "name": "stdout",
          "text": [
            "Epoch 1/100\n",
            "12/12 [==============================] - 2s 46ms/step - loss: 4.9472 - accuracy: 0.7967 - val_loss: 4.5312 - val_accuracy: 0.9670\n",
            "Epoch 2/100\n",
            "12/12 [==============================] - 0s 13ms/step - loss: 4.2858 - accuracy: 0.9451 - val_loss: 4.0038 - val_accuracy: 0.9670\n",
            "Epoch 3/100\n",
            "12/12 [==============================] - 0s 9ms/step - loss: 3.7856 - accuracy: 0.9478 - val_loss: 3.5354 - val_accuracy: 0.9670\n",
            "Epoch 4/100\n",
            "12/12 [==============================] - 0s 12ms/step - loss: 3.3299 - accuracy: 0.9505 - val_loss: 3.1028 - val_accuracy: 0.9560\n",
            "Epoch 5/100\n",
            "12/12 [==============================] - 0s 9ms/step - loss: 2.9141 - accuracy: 0.9560 - val_loss: 2.7122 - val_accuracy: 0.9670\n",
            "Epoch 6/100\n",
            "12/12 [==============================] - 0s 12ms/step - loss: 2.5320 - accuracy: 0.9725 - val_loss: 2.3537 - val_accuracy: 0.9670\n",
            "Epoch 7/100\n",
            "12/12 [==============================] - 0s 20ms/step - loss: 2.1856 - accuracy: 0.9725 - val_loss: 2.0280 - val_accuracy: 0.9560\n",
            "Epoch 8/100\n",
            "12/12 [==============================] - 0s 10ms/step - loss: 1.8727 - accuracy: 0.9753 - val_loss: 1.7352 - val_accuracy: 0.9670\n",
            "Epoch 9/100\n",
            "12/12 [==============================] - 0s 11ms/step - loss: 1.5930 - accuracy: 0.9835 - val_loss: 1.4725 - val_accuracy: 0.9670\n",
            "Epoch 10/100\n",
            "12/12 [==============================] - 0s 14ms/step - loss: 1.3422 - accuracy: 0.9835 - val_loss: 1.2405 - val_accuracy: 0.9670\n",
            "Epoch 11/100\n",
            "12/12 [==============================] - 0s 13ms/step - loss: 1.1219 - accuracy: 0.9835 - val_loss: 1.0367 - val_accuracy: 0.9670\n",
            "Epoch 12/100\n",
            "12/12 [==============================] - 0s 9ms/step - loss: 0.9311 - accuracy: 0.9808 - val_loss: 0.8636 - val_accuracy: 0.9670\n",
            "Epoch 13/100\n",
            "12/12 [==============================] - 0s 9ms/step - loss: 0.7696 - accuracy: 0.9835 - val_loss: 0.7157 - val_accuracy: 0.9670\n",
            "Epoch 14/100\n",
            "12/12 [==============================] - 0s 20ms/step - loss: 0.6343 - accuracy: 0.9808 - val_loss: 0.5986 - val_accuracy: 0.9560\n",
            "Epoch 15/100\n",
            "12/12 [==============================] - 0s 12ms/step - loss: 0.5267 - accuracy: 0.9780 - val_loss: 0.5044 - val_accuracy: 0.9670\n",
            "Epoch 16/100\n",
            "12/12 [==============================] - 0s 11ms/step - loss: 0.4427 - accuracy: 0.9780 - val_loss: 0.4379 - val_accuracy: 0.9341\n",
            "Epoch 17/100\n",
            "12/12 [==============================] - 0s 7ms/step - loss: 0.3853 - accuracy: 0.9753 - val_loss: 0.3913 - val_accuracy: 0.9341\n",
            "Epoch 18/100\n",
            "12/12 [==============================] - 0s 9ms/step - loss: 0.3450 - accuracy: 0.9808 - val_loss: 0.3562 - val_accuracy: 0.9670\n",
            "Epoch 19/100\n",
            "12/12 [==============================] - 0s 9ms/step - loss: 0.3149 - accuracy: 0.9835 - val_loss: 0.3310 - val_accuracy: 0.9341\n",
            "Epoch 20/100\n",
            "12/12 [==============================] - 0s 8ms/step - loss: 0.2919 - accuracy: 0.9808 - val_loss: 0.3125 - val_accuracy: 0.9341\n",
            "Epoch 21/100\n",
            "12/12 [==============================] - 0s 8ms/step - loss: 0.2722 - accuracy: 0.9835 - val_loss: 0.2951 - val_accuracy: 0.9451\n",
            "Epoch 22/100\n",
            "12/12 [==============================] - 0s 11ms/step - loss: 0.2574 - accuracy: 0.9835 - val_loss: 0.2820 - val_accuracy: 0.9341\n",
            "Epoch 23/100\n",
            "12/12 [==============================] - 0s 11ms/step - loss: 0.2457 - accuracy: 0.9780 - val_loss: 0.2719 - val_accuracy: 0.9451\n",
            "Epoch 24/100\n",
            "12/12 [==============================] - 0s 7ms/step - loss: 0.2340 - accuracy: 0.9835 - val_loss: 0.2611 - val_accuracy: 0.9451\n",
            "Epoch 25/100\n",
            "12/12 [==============================] - 0s 11ms/step - loss: 0.2228 - accuracy: 0.9835 - val_loss: 0.2517 - val_accuracy: 0.9451\n",
            "Epoch 26/100\n",
            "12/12 [==============================] - 0s 9ms/step - loss: 0.2152 - accuracy: 0.9835 - val_loss: 0.2464 - val_accuracy: 0.9341\n",
            "Epoch 27/100\n",
            "12/12 [==============================] - 0s 9ms/step - loss: 0.2063 - accuracy: 0.9835 - val_loss: 0.2387 - val_accuracy: 0.9451\n",
            "Epoch 28/100\n",
            "12/12 [==============================] - 0s 9ms/step - loss: 0.2002 - accuracy: 0.9835 - val_loss: 0.2334 - val_accuracy: 0.9451\n",
            "Epoch 29/100\n",
            "12/12 [==============================] - 0s 12ms/step - loss: 0.1948 - accuracy: 0.9835 - val_loss: 0.2288 - val_accuracy: 0.9451\n",
            "Epoch 30/100\n",
            "12/12 [==============================] - 0s 5ms/step - loss: 0.1898 - accuracy: 0.9835 - val_loss: 0.2236 - val_accuracy: 0.9451\n",
            "Epoch 31/100\n",
            "12/12 [==============================] - 0s 6ms/step - loss: 0.1845 - accuracy: 0.9835 - val_loss: 0.2196 - val_accuracy: 0.9451\n",
            "Epoch 32/100\n",
            "12/12 [==============================] - 0s 6ms/step - loss: 0.1797 - accuracy: 0.9835 - val_loss: 0.2153 - val_accuracy: 0.9451\n",
            "Epoch 33/100\n",
            "12/12 [==============================] - 0s 5ms/step - loss: 0.1769 - accuracy: 0.9835 - val_loss: 0.2124 - val_accuracy: 0.9451\n",
            "Epoch 34/100\n",
            "12/12 [==============================] - 0s 5ms/step - loss: 0.1734 - accuracy: 0.9835 - val_loss: 0.2092 - val_accuracy: 0.9451\n",
            "Epoch 35/100\n",
            "12/12 [==============================] - 0s 6ms/step - loss: 0.1701 - accuracy: 0.9835 - val_loss: 0.2038 - val_accuracy: 0.9451\n",
            "Epoch 36/100\n",
            "12/12 [==============================] - 0s 6ms/step - loss: 0.1666 - accuracy: 0.9835 - val_loss: 0.2022 - val_accuracy: 0.9451\n",
            "Epoch 37/100\n",
            "12/12 [==============================] - 0s 5ms/step - loss: 0.1646 - accuracy: 0.9835 - val_loss: 0.2012 - val_accuracy: 0.9451\n",
            "Epoch 38/100\n",
            "12/12 [==============================] - 0s 6ms/step - loss: 0.1636 - accuracy: 0.9835 - val_loss: 0.2005 - val_accuracy: 0.9451\n",
            "Epoch 39/100\n",
            "12/12 [==============================] - 0s 5ms/step - loss: 0.1638 - accuracy: 0.9863 - val_loss: 0.1966 - val_accuracy: 0.9451\n",
            "Epoch 40/100\n",
            "12/12 [==============================] - 0s 5ms/step - loss: 0.1589 - accuracy: 0.9835 - val_loss: 0.1971 - val_accuracy: 0.9451\n",
            "Epoch 41/100\n",
            "12/12 [==============================] - 0s 5ms/step - loss: 0.1581 - accuracy: 0.9835 - val_loss: 0.1927 - val_accuracy: 0.9451\n",
            "Epoch 42/100\n",
            "12/12 [==============================] - 0s 7ms/step - loss: 0.1589 - accuracy: 0.9890 - val_loss: 0.1907 - val_accuracy: 0.9451\n",
            "Epoch 43/100\n",
            "12/12 [==============================] - 0s 6ms/step - loss: 0.1551 - accuracy: 0.9835 - val_loss: 0.1962 - val_accuracy: 0.9451\n",
            "Epoch 44/100\n",
            "12/12 [==============================] - 0s 5ms/step - loss: 0.1519 - accuracy: 0.9835 - val_loss: 0.1881 - val_accuracy: 0.9451\n",
            "Epoch 45/100\n",
            "12/12 [==============================] - 0s 7ms/step - loss: 0.1508 - accuracy: 0.9835 - val_loss: 0.1867 - val_accuracy: 0.9451\n",
            "Epoch 46/100\n",
            "12/12 [==============================] - 0s 5ms/step - loss: 0.1491 - accuracy: 0.9835 - val_loss: 0.1870 - val_accuracy: 0.9451\n",
            "Epoch 47/100\n",
            "12/12 [==============================] - 0s 6ms/step - loss: 0.1464 - accuracy: 0.9835 - val_loss: 0.1851 - val_accuracy: 0.9451\n",
            "Epoch 48/100\n",
            "12/12 [==============================] - 0s 5ms/step - loss: 0.1502 - accuracy: 0.9835 - val_loss: 0.1851 - val_accuracy: 0.9451\n",
            "Epoch 49/100\n",
            "12/12 [==============================] - 0s 5ms/step - loss: 0.1470 - accuracy: 0.9863 - val_loss: 0.1831 - val_accuracy: 0.9451\n",
            "Epoch 50/100\n",
            "12/12 [==============================] - 0s 6ms/step - loss: 0.1458 - accuracy: 0.9835 - val_loss: 0.1823 - val_accuracy: 0.9451\n",
            "Epoch 51/100\n",
            "12/12 [==============================] - 0s 5ms/step - loss: 0.1430 - accuracy: 0.9835 - val_loss: 0.1803 - val_accuracy: 0.9451\n",
            "Epoch 52/100\n",
            "12/12 [==============================] - 0s 5ms/step - loss: 0.1414 - accuracy: 0.9835 - val_loss: 0.1816 - val_accuracy: 0.9451\n",
            "Epoch 53/100\n",
            "12/12 [==============================] - 0s 6ms/step - loss: 0.1447 - accuracy: 0.9835 - val_loss: 0.1801 - val_accuracy: 0.9451\n",
            "Epoch 54/100\n",
            "12/12 [==============================] - 0s 5ms/step - loss: 0.1434 - accuracy: 0.9835 - val_loss: 0.1800 - val_accuracy: 0.9451\n",
            "Epoch 55/100\n",
            "12/12 [==============================] - 0s 5ms/step - loss: 0.1409 - accuracy: 0.9863 - val_loss: 0.1786 - val_accuracy: 0.9451\n",
            "Epoch 56/100\n",
            "12/12 [==============================] - 0s 6ms/step - loss: 0.1401 - accuracy: 0.9835 - val_loss: 0.1851 - val_accuracy: 0.9341\n",
            "Epoch 57/100\n",
            "12/12 [==============================] - 0s 5ms/step - loss: 0.1388 - accuracy: 0.9863 - val_loss: 0.1751 - val_accuracy: 0.9560\n",
            "Epoch 58/100\n",
            "12/12 [==============================] - 0s 6ms/step - loss: 0.1369 - accuracy: 0.9835 - val_loss: 0.1806 - val_accuracy: 0.9451\n",
            "Epoch 59/100\n",
            "12/12 [==============================] - 0s 5ms/step - loss: 0.1368 - accuracy: 0.9863 - val_loss: 0.1751 - val_accuracy: 0.9451\n",
            "Epoch 60/100\n",
            "12/12 [==============================] - 0s 5ms/step - loss: 0.1353 - accuracy: 0.9835 - val_loss: 0.1765 - val_accuracy: 0.9451\n",
            "Epoch 61/100\n",
            "12/12 [==============================] - 0s 6ms/step - loss: 0.1344 - accuracy: 0.9835 - val_loss: 0.1751 - val_accuracy: 0.9451\n",
            "Epoch 62/100\n",
            "12/12 [==============================] - 0s 5ms/step - loss: 0.1351 - accuracy: 0.9835 - val_loss: 0.1737 - val_accuracy: 0.9560\n",
            "Epoch 63/100\n",
            "12/12 [==============================] - 0s 6ms/step - loss: 0.1336 - accuracy: 0.9890 - val_loss: 0.1739 - val_accuracy: 0.9451\n",
            "Epoch 64/100\n",
            "12/12 [==============================] - 0s 5ms/step - loss: 0.1332 - accuracy: 0.9835 - val_loss: 0.1764 - val_accuracy: 0.9451\n",
            "Epoch 65/100\n",
            "12/12 [==============================] - 0s 8ms/step - loss: 0.1329 - accuracy: 0.9890 - val_loss: 0.1718 - val_accuracy: 0.9451\n",
            "Epoch 66/100\n",
            "12/12 [==============================] - 0s 6ms/step - loss: 0.1318 - accuracy: 0.9835 - val_loss: 0.1774 - val_accuracy: 0.9451\n",
            "Epoch 67/100\n",
            "12/12 [==============================] - 0s 7ms/step - loss: 0.1309 - accuracy: 0.9835 - val_loss: 0.1719 - val_accuracy: 0.9451\n",
            "Epoch 68/100\n",
            "12/12 [==============================] - 0s 8ms/step - loss: 0.1292 - accuracy: 0.9835 - val_loss: 0.1726 - val_accuracy: 0.9451\n",
            "Epoch 69/100\n",
            "12/12 [==============================] - 0s 7ms/step - loss: 0.1302 - accuracy: 0.9835 - val_loss: 0.1704 - val_accuracy: 0.9451\n",
            "Epoch 70/100\n",
            "12/12 [==============================] - 0s 7ms/step - loss: 0.1301 - accuracy: 0.9890 - val_loss: 0.1703 - val_accuracy: 0.9451\n",
            "Epoch 71/100\n",
            "12/12 [==============================] - 0s 7ms/step - loss: 0.1275 - accuracy: 0.9835 - val_loss: 0.1710 - val_accuracy: 0.9451\n",
            "Epoch 72/100\n",
            "12/12 [==============================] - 0s 7ms/step - loss: 0.1281 - accuracy: 0.9835 - val_loss: 0.1685 - val_accuracy: 0.9560\n",
            "Epoch 73/100\n",
            "12/12 [==============================] - 0s 7ms/step - loss: 0.1269 - accuracy: 0.9890 - val_loss: 0.1680 - val_accuracy: 0.9451\n",
            "Epoch 74/100\n",
            "12/12 [==============================] - 0s 7ms/step - loss: 0.1261 - accuracy: 0.9835 - val_loss: 0.1688 - val_accuracy: 0.9451\n",
            "Epoch 75/100\n",
            "12/12 [==============================] - 0s 8ms/step - loss: 0.1250 - accuracy: 0.9835 - val_loss: 0.1686 - val_accuracy: 0.9451\n",
            "Epoch 76/100\n",
            "12/12 [==============================] - 0s 9ms/step - loss: 0.1259 - accuracy: 0.9890 - val_loss: 0.1723 - val_accuracy: 0.9451\n",
            "Epoch 77/100\n",
            "12/12 [==============================] - 0s 10ms/step - loss: 0.1277 - accuracy: 0.9835 - val_loss: 0.1703 - val_accuracy: 0.9451\n",
            "Epoch 78/100\n",
            "12/12 [==============================] - 0s 11ms/step - loss: 0.1241 - accuracy: 0.9863 - val_loss: 0.1661 - val_accuracy: 0.9560\n",
            "Epoch 79/100\n",
            "12/12 [==============================] - 0s 11ms/step - loss: 0.1242 - accuracy: 0.9890 - val_loss: 0.1693 - val_accuracy: 0.9451\n",
            "Epoch 80/100\n",
            "12/12 [==============================] - 0s 12ms/step - loss: 0.1233 - accuracy: 0.9835 - val_loss: 0.1666 - val_accuracy: 0.9451\n",
            "Epoch 81/100\n",
            "12/12 [==============================] - 0s 11ms/step - loss: 0.1241 - accuracy: 0.9863 - val_loss: 0.1653 - val_accuracy: 0.9341\n",
            "Epoch 82/100\n",
            "12/12 [==============================] - 0s 11ms/step - loss: 0.1228 - accuracy: 0.9863 - val_loss: 0.1675 - val_accuracy: 0.9451\n",
            "Epoch 83/100\n",
            "12/12 [==============================] - 0s 11ms/step - loss: 0.1223 - accuracy: 0.9835 - val_loss: 0.1652 - val_accuracy: 0.9451\n",
            "Epoch 84/100\n",
            "12/12 [==============================] - 0s 8ms/step - loss: 0.1215 - accuracy: 0.9890 - val_loss: 0.1642 - val_accuracy: 0.9451\n",
            "Epoch 85/100\n",
            "12/12 [==============================] - 0s 8ms/step - loss: 0.1224 - accuracy: 0.9890 - val_loss: 0.1684 - val_accuracy: 0.9451\n",
            "Epoch 86/100\n",
            "12/12 [==============================] - 0s 7ms/step - loss: 0.1210 - accuracy: 0.9863 - val_loss: 0.1637 - val_accuracy: 0.9341\n",
            "Epoch 87/100\n",
            "12/12 [==============================] - 0s 9ms/step - loss: 0.1199 - accuracy: 0.9863 - val_loss: 0.1650 - val_accuracy: 0.9451\n",
            "Epoch 88/100\n",
            "12/12 [==============================] - 0s 7ms/step - loss: 0.1206 - accuracy: 0.9863 - val_loss: 0.1639 - val_accuracy: 0.9341\n",
            "Epoch 89/100\n",
            "12/12 [==============================] - 0s 7ms/step - loss: 0.1202 - accuracy: 0.9863 - val_loss: 0.1645 - val_accuracy: 0.9451\n",
            "Epoch 90/100\n",
            "12/12 [==============================] - 0s 8ms/step - loss: 0.1191 - accuracy: 0.9863 - val_loss: 0.1644 - val_accuracy: 0.9341\n",
            "Epoch 91/100\n",
            "12/12 [==============================] - 0s 8ms/step - loss: 0.1196 - accuracy: 0.9863 - val_loss: 0.1637 - val_accuracy: 0.9341\n",
            "Epoch 92/100\n",
            "12/12 [==============================] - 0s 8ms/step - loss: 0.1180 - accuracy: 0.9863 - val_loss: 0.1613 - val_accuracy: 0.9341\n",
            "Epoch 93/100\n",
            "12/12 [==============================] - 0s 6ms/step - loss: 0.1176 - accuracy: 0.9890 - val_loss: 0.1617 - val_accuracy: 0.9451\n",
            "Epoch 94/100\n",
            "12/12 [==============================] - 0s 7ms/step - loss: 0.1172 - accuracy: 0.9890 - val_loss: 0.1633 - val_accuracy: 0.9341\n",
            "Epoch 95/100\n",
            "12/12 [==============================] - 0s 8ms/step - loss: 0.1173 - accuracy: 0.9863 - val_loss: 0.1615 - val_accuracy: 0.9341\n",
            "Epoch 96/100\n",
            "12/12 [==============================] - 0s 7ms/step - loss: 0.1164 - accuracy: 0.9863 - val_loss: 0.1646 - val_accuracy: 0.9451\n",
            "Epoch 97/100\n",
            "12/12 [==============================] - 0s 8ms/step - loss: 0.1159 - accuracy: 0.9890 - val_loss: 0.1602 - val_accuracy: 0.9451\n",
            "Epoch 98/100\n",
            "12/12 [==============================] - 0s 7ms/step - loss: 0.1172 - accuracy: 0.9835 - val_loss: 0.1634 - val_accuracy: 0.9341\n",
            "Epoch 99/100\n",
            "12/12 [==============================] - 0s 8ms/step - loss: 0.1152 - accuracy: 0.9863 - val_loss: 0.1600 - val_accuracy: 0.9451\n",
            "Epoch 100/100\n",
            "12/12 [==============================] - 0s 8ms/step - loss: 0.1133 - accuracy: 0.9890 - val_loss: 0.1612 - val_accuracy: 0.9341\n"
          ]
        }
      ]
    },
    {
      "cell_type": "code",
      "source": [
        "mt2 = model2.fit(X_train, y_train, epochs=100, batch_size=32, validation_split=0.2)"
      ],
      "metadata": {
        "colab": {
          "base_uri": "https://localhost:8080/"
        },
        "id": "CjrcHgmHGasT",
        "outputId": "d8107256-3b5a-4258-d4ef-c1578d3b80c2"
      },
      "execution_count": null,
      "outputs": [
        {
          "output_type": "stream",
          "name": "stdout",
          "text": [
            "Epoch 1/100\n",
            "12/12 [==============================] - 1s 20ms/step - loss: 1.8152 - accuracy: 0.7940 - val_loss: 1.5421 - val_accuracy: 0.9121\n",
            "Epoch 2/100\n",
            "12/12 [==============================] - 0s 5ms/step - loss: 1.4285 - accuracy: 0.9396 - val_loss: 1.3107 - val_accuracy: 0.9341\n",
            "Epoch 3/100\n",
            "12/12 [==============================] - 0s 6ms/step - loss: 1.2337 - accuracy: 0.9478 - val_loss: 1.1556 - val_accuracy: 0.9560\n",
            "Epoch 4/100\n",
            "12/12 [==============================] - 0s 6ms/step - loss: 1.0831 - accuracy: 0.9588 - val_loss: 1.0259 - val_accuracy: 0.9560\n",
            "Epoch 5/100\n",
            "12/12 [==============================] - 0s 5ms/step - loss: 0.9548 - accuracy: 0.9780 - val_loss: 0.9151 - val_accuracy: 0.9670\n",
            "Epoch 6/100\n",
            "12/12 [==============================] - 0s 6ms/step - loss: 0.8438 - accuracy: 0.9863 - val_loss: 0.8178 - val_accuracy: 0.9670\n",
            "Epoch 7/100\n",
            "12/12 [==============================] - 0s 7ms/step - loss: 0.7472 - accuracy: 0.9863 - val_loss: 0.7316 - val_accuracy: 0.9670\n",
            "Epoch 8/100\n",
            "12/12 [==============================] - 0s 5ms/step - loss: 0.6623 - accuracy: 0.9890 - val_loss: 0.6562 - val_accuracy: 0.9670\n",
            "Epoch 9/100\n",
            "12/12 [==============================] - 0s 6ms/step - loss: 0.5881 - accuracy: 0.9863 - val_loss: 0.5902 - val_accuracy: 0.9670\n",
            "Epoch 10/100\n",
            "12/12 [==============================] - 0s 5ms/step - loss: 0.5235 - accuracy: 0.9890 - val_loss: 0.5328 - val_accuracy: 0.9670\n",
            "Epoch 11/100\n",
            "12/12 [==============================] - 0s 5ms/step - loss: 0.4673 - accuracy: 0.9890 - val_loss: 0.4804 - val_accuracy: 0.9670\n",
            "Epoch 12/100\n",
            "12/12 [==============================] - 0s 6ms/step - loss: 0.4187 - accuracy: 0.9890 - val_loss: 0.4362 - val_accuracy: 0.9670\n",
            "Epoch 13/100\n",
            "12/12 [==============================] - 0s 5ms/step - loss: 0.3755 - accuracy: 0.9890 - val_loss: 0.3986 - val_accuracy: 0.9670\n",
            "Epoch 14/100\n",
            "12/12 [==============================] - 0s 4ms/step - loss: 0.3384 - accuracy: 0.9890 - val_loss: 0.3634 - val_accuracy: 0.9670\n",
            "Epoch 15/100\n",
            "12/12 [==============================] - 0s 6ms/step - loss: 0.3069 - accuracy: 0.9890 - val_loss: 0.3354 - val_accuracy: 0.9670\n",
            "Epoch 16/100\n",
            "12/12 [==============================] - 0s 5ms/step - loss: 0.2780 - accuracy: 0.9890 - val_loss: 0.3093 - val_accuracy: 0.9670\n",
            "Epoch 17/100\n",
            "12/12 [==============================] - 0s 7ms/step - loss: 0.2549 - accuracy: 0.9890 - val_loss: 0.2869 - val_accuracy: 0.9670\n",
            "Epoch 18/100\n",
            "12/12 [==============================] - 0s 6ms/step - loss: 0.2334 - accuracy: 0.9890 - val_loss: 0.2686 - val_accuracy: 0.9560\n",
            "Epoch 19/100\n",
            "12/12 [==============================] - 0s 6ms/step - loss: 0.2146 - accuracy: 0.9890 - val_loss: 0.2504 - val_accuracy: 0.9560\n",
            "Epoch 20/100\n",
            "12/12 [==============================] - 0s 5ms/step - loss: 0.1988 - accuracy: 0.9890 - val_loss: 0.2382 - val_accuracy: 0.9451\n",
            "Epoch 21/100\n",
            "12/12 [==============================] - 0s 6ms/step - loss: 0.1852 - accuracy: 0.9890 - val_loss: 0.2242 - val_accuracy: 0.9560\n",
            "Epoch 22/100\n",
            "12/12 [==============================] - 0s 5ms/step - loss: 0.1730 - accuracy: 0.9890 - val_loss: 0.2135 - val_accuracy: 0.9451\n",
            "Epoch 23/100\n",
            "12/12 [==============================] - 0s 6ms/step - loss: 0.1628 - accuracy: 0.9890 - val_loss: 0.2040 - val_accuracy: 0.9560\n",
            "Epoch 24/100\n",
            "12/12 [==============================] - 0s 5ms/step - loss: 0.1520 - accuracy: 0.9890 - val_loss: 0.1965 - val_accuracy: 0.9451\n",
            "Epoch 25/100\n",
            "12/12 [==============================] - 0s 5ms/step - loss: 0.1444 - accuracy: 0.9890 - val_loss: 0.1887 - val_accuracy: 0.9451\n",
            "Epoch 26/100\n",
            "12/12 [==============================] - 0s 5ms/step - loss: 0.1370 - accuracy: 0.9918 - val_loss: 0.1784 - val_accuracy: 0.9670\n",
            "Epoch 27/100\n",
            "12/12 [==============================] - 0s 5ms/step - loss: 0.1312 - accuracy: 0.9918 - val_loss: 0.1740 - val_accuracy: 0.9451\n",
            "Epoch 28/100\n",
            "12/12 [==============================] - 0s 5ms/step - loss: 0.1247 - accuracy: 0.9890 - val_loss: 0.1739 - val_accuracy: 0.9451\n",
            "Epoch 29/100\n",
            "12/12 [==============================] - 0s 5ms/step - loss: 0.1198 - accuracy: 0.9890 - val_loss: 0.1676 - val_accuracy: 0.9451\n",
            "Epoch 30/100\n",
            "12/12 [==============================] - 0s 5ms/step - loss: 0.1151 - accuracy: 0.9918 - val_loss: 0.1629 - val_accuracy: 0.9451\n",
            "Epoch 31/100\n",
            "12/12 [==============================] - 0s 6ms/step - loss: 0.1116 - accuracy: 0.9890 - val_loss: 0.1631 - val_accuracy: 0.9560\n",
            "Epoch 32/100\n",
            "12/12 [==============================] - 0s 5ms/step - loss: 0.1088 - accuracy: 0.9890 - val_loss: 0.1552 - val_accuracy: 0.9560\n",
            "Epoch 33/100\n",
            "12/12 [==============================] - 0s 5ms/step - loss: 0.1044 - accuracy: 0.9890 - val_loss: 0.1556 - val_accuracy: 0.9451\n",
            "Epoch 34/100\n",
            "12/12 [==============================] - 0s 5ms/step - loss: 0.1012 - accuracy: 0.9890 - val_loss: 0.1523 - val_accuracy: 0.9451\n",
            "Epoch 35/100\n",
            "12/12 [==============================] - 0s 5ms/step - loss: 0.0990 - accuracy: 0.9890 - val_loss: 0.1473 - val_accuracy: 0.9451\n",
            "Epoch 36/100\n",
            "12/12 [==============================] - 0s 6ms/step - loss: 0.0974 - accuracy: 0.9918 - val_loss: 0.1452 - val_accuracy: 0.9451\n",
            "Epoch 37/100\n",
            "12/12 [==============================] - 0s 5ms/step - loss: 0.0943 - accuracy: 0.9918 - val_loss: 0.1446 - val_accuracy: 0.9451\n",
            "Epoch 38/100\n",
            "12/12 [==============================] - 0s 6ms/step - loss: 0.0957 - accuracy: 0.9863 - val_loss: 0.1473 - val_accuracy: 0.9560\n",
            "Epoch 39/100\n",
            "12/12 [==============================] - 0s 5ms/step - loss: 0.0900 - accuracy: 0.9918 - val_loss: 0.1421 - val_accuracy: 0.9560\n",
            "Epoch 40/100\n",
            "12/12 [==============================] - 0s 5ms/step - loss: 0.0899 - accuracy: 0.9890 - val_loss: 0.1368 - val_accuracy: 0.9670\n",
            "Epoch 41/100\n",
            "12/12 [==============================] - 0s 5ms/step - loss: 0.0899 - accuracy: 0.9918 - val_loss: 0.1439 - val_accuracy: 0.9341\n",
            "Epoch 42/100\n",
            "12/12 [==============================] - 0s 6ms/step - loss: 0.0910 - accuracy: 0.9890 - val_loss: 0.1500 - val_accuracy: 0.9560\n",
            "Epoch 43/100\n",
            "12/12 [==============================] - 0s 5ms/step - loss: 0.0895 - accuracy: 0.9863 - val_loss: 0.1326 - val_accuracy: 0.9560\n",
            "Epoch 44/100\n",
            "12/12 [==============================] - 0s 5ms/step - loss: 0.0876 - accuracy: 0.9890 - val_loss: 0.1402 - val_accuracy: 0.9451\n",
            "Epoch 45/100\n",
            "12/12 [==============================] - 0s 5ms/step - loss: 0.0837 - accuracy: 0.9918 - val_loss: 0.1444 - val_accuracy: 0.9560\n",
            "Epoch 46/100\n",
            "12/12 [==============================] - 0s 6ms/step - loss: 0.0825 - accuracy: 0.9890 - val_loss: 0.1378 - val_accuracy: 0.9451\n",
            "Epoch 47/100\n",
            "12/12 [==============================] - 0s 5ms/step - loss: 0.0828 - accuracy: 0.9918 - val_loss: 0.1383 - val_accuracy: 0.9560\n",
            "Epoch 48/100\n",
            "12/12 [==============================] - 0s 5ms/step - loss: 0.0800 - accuracy: 0.9945 - val_loss: 0.1360 - val_accuracy: 0.9670\n",
            "Epoch 49/100\n",
            "12/12 [==============================] - 0s 5ms/step - loss: 0.0794 - accuracy: 0.9945 - val_loss: 0.1328 - val_accuracy: 0.9560\n",
            "Epoch 50/100\n",
            "12/12 [==============================] - 0s 5ms/step - loss: 0.0784 - accuracy: 0.9945 - val_loss: 0.1325 - val_accuracy: 0.9560\n",
            "Epoch 51/100\n",
            "12/12 [==============================] - 0s 5ms/step - loss: 0.0776 - accuracy: 0.9945 - val_loss: 0.1343 - val_accuracy: 0.9560\n",
            "Epoch 52/100\n",
            "12/12 [==============================] - 0s 7ms/step - loss: 0.0780 - accuracy: 0.9890 - val_loss: 0.1290 - val_accuracy: 0.9560\n",
            "Epoch 53/100\n",
            "12/12 [==============================] - 0s 5ms/step - loss: 0.0770 - accuracy: 0.9918 - val_loss: 0.1290 - val_accuracy: 0.9560\n",
            "Epoch 54/100\n",
            "12/12 [==============================] - 0s 5ms/step - loss: 0.0754 - accuracy: 0.9918 - val_loss: 0.1308 - val_accuracy: 0.9560\n",
            "Epoch 55/100\n",
            "12/12 [==============================] - 0s 5ms/step - loss: 0.0754 - accuracy: 0.9945 - val_loss: 0.1294 - val_accuracy: 0.9670\n",
            "Epoch 56/100\n",
            "12/12 [==============================] - 0s 5ms/step - loss: 0.0762 - accuracy: 0.9945 - val_loss: 0.1283 - val_accuracy: 0.9670\n",
            "Epoch 57/100\n",
            "12/12 [==============================] - 0s 5ms/step - loss: 0.0738 - accuracy: 0.9945 - val_loss: 0.1264 - val_accuracy: 0.9560\n",
            "Epoch 58/100\n",
            "12/12 [==============================] - 0s 6ms/step - loss: 0.0736 - accuracy: 0.9918 - val_loss: 0.1288 - val_accuracy: 0.9670\n",
            "Epoch 59/100\n",
            "12/12 [==============================] - 0s 5ms/step - loss: 0.0794 - accuracy: 0.9890 - val_loss: 0.1442 - val_accuracy: 0.9451\n",
            "Epoch 60/100\n",
            "12/12 [==============================] - 0s 5ms/step - loss: 0.0776 - accuracy: 0.9890 - val_loss: 0.1227 - val_accuracy: 0.9560\n",
            "Epoch 61/100\n",
            "12/12 [==============================] - 0s 6ms/step - loss: 0.0764 - accuracy: 0.9918 - val_loss: 0.1309 - val_accuracy: 0.9560\n",
            "Epoch 62/100\n",
            "12/12 [==============================] - 0s 6ms/step - loss: 0.0742 - accuracy: 0.9890 - val_loss: 0.1228 - val_accuracy: 0.9560\n",
            "Epoch 63/100\n",
            "12/12 [==============================] - 0s 5ms/step - loss: 0.0712 - accuracy: 0.9918 - val_loss: 0.1248 - val_accuracy: 0.9780\n",
            "Epoch 64/100\n",
            "12/12 [==============================] - 0s 6ms/step - loss: 0.0722 - accuracy: 0.9918 - val_loss: 0.1253 - val_accuracy: 0.9780\n",
            "Epoch 65/100\n",
            "12/12 [==============================] - 0s 6ms/step - loss: 0.0713 - accuracy: 0.9918 - val_loss: 0.1270 - val_accuracy: 0.9780\n",
            "Epoch 66/100\n",
            "12/12 [==============================] - 0s 7ms/step - loss: 0.0704 - accuracy: 0.9918 - val_loss: 0.1269 - val_accuracy: 0.9560\n",
            "Epoch 67/100\n",
            "12/12 [==============================] - 0s 5ms/step - loss: 0.0706 - accuracy: 0.9918 - val_loss: 0.1229 - val_accuracy: 0.9670\n",
            "Epoch 68/100\n",
            "12/12 [==============================] - 0s 5ms/step - loss: 0.0696 - accuracy: 0.9945 - val_loss: 0.1255 - val_accuracy: 0.9451\n",
            "Epoch 69/100\n",
            "12/12 [==============================] - 0s 6ms/step - loss: 0.0698 - accuracy: 0.9945 - val_loss: 0.1280 - val_accuracy: 0.9560\n",
            "Epoch 70/100\n",
            "12/12 [==============================] - 0s 5ms/step - loss: 0.0682 - accuracy: 0.9945 - val_loss: 0.1252 - val_accuracy: 0.9780\n",
            "Epoch 71/100\n",
            "12/12 [==============================] - 0s 5ms/step - loss: 0.0707 - accuracy: 0.9918 - val_loss: 0.1214 - val_accuracy: 0.9670\n",
            "Epoch 72/100\n",
            "12/12 [==============================] - 0s 5ms/step - loss: 0.0706 - accuracy: 0.9918 - val_loss: 0.1221 - val_accuracy: 0.9560\n",
            "Epoch 73/100\n",
            "12/12 [==============================] - 0s 6ms/step - loss: 0.0721 - accuracy: 0.9918 - val_loss: 0.1321 - val_accuracy: 0.9560\n",
            "Epoch 74/100\n",
            "12/12 [==============================] - 0s 5ms/step - loss: 0.0708 - accuracy: 0.9918 - val_loss: 0.1233 - val_accuracy: 0.9451\n",
            "Epoch 75/100\n",
            "12/12 [==============================] - 0s 5ms/step - loss: 0.0695 - accuracy: 0.9918 - val_loss: 0.1340 - val_accuracy: 0.9560\n",
            "Epoch 76/100\n",
            "12/12 [==============================] - 0s 5ms/step - loss: 0.0723 - accuracy: 0.9890 - val_loss: 0.1225 - val_accuracy: 0.9670\n",
            "Epoch 77/100\n",
            "12/12 [==============================] - 0s 6ms/step - loss: 0.0675 - accuracy: 0.9918 - val_loss: 0.1344 - val_accuracy: 0.9451\n",
            "Epoch 78/100\n",
            "12/12 [==============================] - 0s 5ms/step - loss: 0.0672 - accuracy: 0.9890 - val_loss: 0.1279 - val_accuracy: 0.9560\n",
            "Epoch 79/100\n",
            "12/12 [==============================] - 0s 6ms/step - loss: 0.0669 - accuracy: 0.9918 - val_loss: 0.1352 - val_accuracy: 0.9560\n",
            "Epoch 80/100\n",
            "12/12 [==============================] - 0s 5ms/step - loss: 0.0665 - accuracy: 0.9945 - val_loss: 0.1289 - val_accuracy: 0.9670\n",
            "Epoch 81/100\n",
            "12/12 [==============================] - 0s 5ms/step - loss: 0.0650 - accuracy: 0.9945 - val_loss: 0.1221 - val_accuracy: 0.9670\n",
            "Epoch 82/100\n",
            "12/12 [==============================] - 0s 8ms/step - loss: 0.0671 - accuracy: 0.9918 - val_loss: 0.1243 - val_accuracy: 0.9670\n",
            "Epoch 83/100\n",
            "12/12 [==============================] - 0s 6ms/step - loss: 0.0658 - accuracy: 0.9945 - val_loss: 0.1217 - val_accuracy: 0.9560\n",
            "Epoch 84/100\n",
            "12/12 [==============================] - 0s 6ms/step - loss: 0.0644 - accuracy: 0.9918 - val_loss: 0.1269 - val_accuracy: 0.9560\n",
            "Epoch 85/100\n",
            "12/12 [==============================] - 0s 6ms/step - loss: 0.0650 - accuracy: 0.9945 - val_loss: 0.1250 - val_accuracy: 0.9560\n",
            "Epoch 86/100\n",
            "12/12 [==============================] - 0s 5ms/step - loss: 0.0643 - accuracy: 0.9918 - val_loss: 0.1220 - val_accuracy: 0.9560\n",
            "Epoch 87/100\n",
            "12/12 [==============================] - 0s 5ms/step - loss: 0.0660 - accuracy: 0.9918 - val_loss: 0.1298 - val_accuracy: 0.9560\n",
            "Epoch 88/100\n",
            "12/12 [==============================] - 0s 5ms/step - loss: 0.0652 - accuracy: 0.9918 - val_loss: 0.1210 - val_accuracy: 0.9560\n",
            "Epoch 89/100\n",
            "12/12 [==============================] - 0s 5ms/step - loss: 0.0680 - accuracy: 0.9890 - val_loss: 0.1311 - val_accuracy: 0.9560\n",
            "Epoch 90/100\n",
            "12/12 [==============================] - 0s 6ms/step - loss: 0.0699 - accuracy: 0.9918 - val_loss: 0.1174 - val_accuracy: 0.9560\n",
            "Epoch 91/100\n",
            "12/12 [==============================] - 0s 6ms/step - loss: 0.0635 - accuracy: 0.9945 - val_loss: 0.1330 - val_accuracy: 0.9560\n",
            "Epoch 92/100\n",
            "12/12 [==============================] - 0s 6ms/step - loss: 0.0655 - accuracy: 0.9945 - val_loss: 0.1231 - val_accuracy: 0.9560\n",
            "Epoch 93/100\n",
            "12/12 [==============================] - 0s 6ms/step - loss: 0.0645 - accuracy: 0.9918 - val_loss: 0.1129 - val_accuracy: 0.9670\n",
            "Epoch 94/100\n",
            "12/12 [==============================] - 0s 6ms/step - loss: 0.0627 - accuracy: 0.9945 - val_loss: 0.1229 - val_accuracy: 0.9670\n",
            "Epoch 95/100\n",
            "12/12 [==============================] - 0s 5ms/step - loss: 0.0625 - accuracy: 0.9945 - val_loss: 0.1226 - val_accuracy: 0.9560\n",
            "Epoch 96/100\n",
            "12/12 [==============================] - 0s 8ms/step - loss: 0.0616 - accuracy: 0.9945 - val_loss: 0.1171 - val_accuracy: 0.9560\n",
            "Epoch 97/100\n",
            "12/12 [==============================] - 0s 8ms/step - loss: 0.0637 - accuracy: 0.9918 - val_loss: 0.1193 - val_accuracy: 0.9780\n",
            "Epoch 98/100\n",
            "12/12 [==============================] - 0s 9ms/step - loss: 0.0671 - accuracy: 0.9890 - val_loss: 0.1317 - val_accuracy: 0.9560\n",
            "Epoch 99/100\n",
            "12/12 [==============================] - 0s 9ms/step - loss: 0.0701 - accuracy: 0.9890 - val_loss: 0.1157 - val_accuracy: 0.9560\n",
            "Epoch 100/100\n",
            "12/12 [==============================] - 0s 7ms/step - loss: 0.0604 - accuracy: 0.9945 - val_loss: 0.1334 - val_accuracy: 0.9560\n"
          ]
        }
      ]
    },
    {
      "cell_type": "code",
      "source": [
        "mt3 = model3.fit(X_train, y_train, epochs=100, batch_size=32, validation_split=0.2)"
      ],
      "metadata": {
        "colab": {
          "base_uri": "https://localhost:8080/"
        },
        "id": "kbsB0_-NGelk",
        "outputId": "6c746796-c5c8-4808-d134-ea99dbefcef8"
      },
      "execution_count": null,
      "outputs": [
        {
          "output_type": "stream",
          "name": "stdout",
          "text": [
            "Epoch 1/100\n",
            "12/12 [==============================] - 1s 22ms/step - loss: 12.2903 - accuracy: 0.7527 - val_loss: 11.3611 - val_accuracy: 0.9670\n",
            "Epoch 2/100\n",
            "12/12 [==============================] - 0s 6ms/step - loss: 10.7387 - accuracy: 0.9368 - val_loss: 9.9322 - val_accuracy: 0.9560\n",
            "Epoch 3/100\n",
            "12/12 [==============================] - 0s 5ms/step - loss: 9.3560 - accuracy: 0.9451 - val_loss: 8.6111 - val_accuracy: 0.9560\n",
            "Epoch 4/100\n",
            "12/12 [==============================] - 0s 6ms/step - loss: 8.0763 - accuracy: 0.9505 - val_loss: 7.3951 - val_accuracy: 0.9670\n",
            "Epoch 5/100\n",
            "12/12 [==============================] - 0s 5ms/step - loss: 6.9016 - accuracy: 0.9588 - val_loss: 6.2809 - val_accuracy: 0.9670\n",
            "Epoch 6/100\n",
            "12/12 [==============================] - 0s 6ms/step - loss: 5.8331 - accuracy: 0.9615 - val_loss: 5.2759 - val_accuracy: 0.9670\n",
            "Epoch 7/100\n",
            "12/12 [==============================] - 0s 6ms/step - loss: 4.8730 - accuracy: 0.9670 - val_loss: 4.3779 - val_accuracy: 0.9560\n",
            "Epoch 8/100\n",
            "12/12 [==============================] - 0s 6ms/step - loss: 4.0160 - accuracy: 0.9670 - val_loss: 3.5788 - val_accuracy: 0.9560\n",
            "Epoch 9/100\n",
            "12/12 [==============================] - 0s 5ms/step - loss: 3.2606 - accuracy: 0.9698 - val_loss: 2.8840 - val_accuracy: 0.9560\n",
            "Epoch 10/100\n",
            "12/12 [==============================] - 0s 6ms/step - loss: 2.6063 - accuracy: 0.9725 - val_loss: 2.2856 - val_accuracy: 0.9560\n",
            "Epoch 11/100\n",
            "12/12 [==============================] - 0s 6ms/step - loss: 2.0444 - accuracy: 0.9753 - val_loss: 1.7722 - val_accuracy: 0.9560\n",
            "Epoch 12/100\n",
            "12/12 [==============================] - 0s 6ms/step - loss: 1.5674 - accuracy: 0.9753 - val_loss: 1.3461 - val_accuracy: 0.9341\n",
            "Epoch 13/100\n",
            "12/12 [==============================] - 0s 5ms/step - loss: 1.1772 - accuracy: 0.9753 - val_loss: 1.0060 - val_accuracy: 0.9341\n",
            "Epoch 14/100\n",
            "12/12 [==============================] - 0s 6ms/step - loss: 0.8725 - accuracy: 0.9753 - val_loss: 0.7506 - val_accuracy: 0.9341\n",
            "Epoch 15/100\n",
            "12/12 [==============================] - 0s 6ms/step - loss: 0.6494 - accuracy: 0.9753 - val_loss: 0.5736 - val_accuracy: 0.9341\n",
            "Epoch 16/100\n",
            "12/12 [==============================] - 0s 6ms/step - loss: 0.5044 - accuracy: 0.9753 - val_loss: 0.4667 - val_accuracy: 0.9341\n",
            "Epoch 17/100\n",
            "12/12 [==============================] - 0s 5ms/step - loss: 0.4160 - accuracy: 0.9753 - val_loss: 0.4009 - val_accuracy: 0.9341\n",
            "Epoch 18/100\n",
            "12/12 [==============================] - 0s 6ms/step - loss: 0.3628 - accuracy: 0.9753 - val_loss: 0.3630 - val_accuracy: 0.9451\n",
            "Epoch 19/100\n",
            "12/12 [==============================] - 0s 5ms/step - loss: 0.3327 - accuracy: 0.9780 - val_loss: 0.3411 - val_accuracy: 0.9560\n",
            "Epoch 20/100\n",
            "12/12 [==============================] - 0s 6ms/step - loss: 0.3137 - accuracy: 0.9780 - val_loss: 0.3279 - val_accuracy: 0.9560\n",
            "Epoch 21/100\n",
            "12/12 [==============================] - 0s 6ms/step - loss: 0.3020 - accuracy: 0.9780 - val_loss: 0.3197 - val_accuracy: 0.9451\n",
            "Epoch 22/100\n",
            "12/12 [==============================] - 0s 6ms/step - loss: 0.2942 - accuracy: 0.9780 - val_loss: 0.3137 - val_accuracy: 0.9560\n",
            "Epoch 23/100\n",
            "12/12 [==============================] - 0s 6ms/step - loss: 0.2883 - accuracy: 0.9780 - val_loss: 0.3100 - val_accuracy: 0.9560\n",
            "Epoch 24/100\n",
            "12/12 [==============================] - 0s 6ms/step - loss: 0.2839 - accuracy: 0.9780 - val_loss: 0.3069 - val_accuracy: 0.9560\n",
            "Epoch 25/100\n",
            "12/12 [==============================] - 0s 6ms/step - loss: 0.2806 - accuracy: 0.9808 - val_loss: 0.3041 - val_accuracy: 0.9670\n",
            "Epoch 26/100\n",
            "12/12 [==============================] - 0s 6ms/step - loss: 0.2770 - accuracy: 0.9808 - val_loss: 0.3024 - val_accuracy: 0.9670\n",
            "Epoch 27/100\n",
            "12/12 [==============================] - 0s 7ms/step - loss: 0.2739 - accuracy: 0.9808 - val_loss: 0.3007 - val_accuracy: 0.9670\n",
            "Epoch 28/100\n",
            "12/12 [==============================] - 0s 6ms/step - loss: 0.2713 - accuracy: 0.9835 - val_loss: 0.2990 - val_accuracy: 0.9670\n",
            "Epoch 29/100\n",
            "12/12 [==============================] - 0s 6ms/step - loss: 0.2685 - accuracy: 0.9835 - val_loss: 0.2977 - val_accuracy: 0.9670\n",
            "Epoch 30/100\n",
            "12/12 [==============================] - 0s 6ms/step - loss: 0.2661 - accuracy: 0.9835 - val_loss: 0.2960 - val_accuracy: 0.9670\n",
            "Epoch 31/100\n",
            "12/12 [==============================] - 0s 7ms/step - loss: 0.2638 - accuracy: 0.9835 - val_loss: 0.2946 - val_accuracy: 0.9670\n",
            "Epoch 32/100\n",
            "12/12 [==============================] - 0s 5ms/step - loss: 0.2614 - accuracy: 0.9835 - val_loss: 0.2932 - val_accuracy: 0.9560\n",
            "Epoch 33/100\n",
            "12/12 [==============================] - 0s 6ms/step - loss: 0.2594 - accuracy: 0.9835 - val_loss: 0.2916 - val_accuracy: 0.9670\n",
            "Epoch 34/100\n",
            "12/12 [==============================] - 0s 5ms/step - loss: 0.2573 - accuracy: 0.9835 - val_loss: 0.2904 - val_accuracy: 0.9560\n",
            "Epoch 35/100\n",
            "12/12 [==============================] - 0s 6ms/step - loss: 0.2549 - accuracy: 0.9835 - val_loss: 0.2883 - val_accuracy: 0.9670\n",
            "Epoch 36/100\n",
            "12/12 [==============================] - 0s 6ms/step - loss: 0.2529 - accuracy: 0.9835 - val_loss: 0.2869 - val_accuracy: 0.9560\n",
            "Epoch 37/100\n",
            "12/12 [==============================] - 0s 6ms/step - loss: 0.2508 - accuracy: 0.9835 - val_loss: 0.2850 - val_accuracy: 0.9560\n",
            "Epoch 38/100\n",
            "12/12 [==============================] - 0s 8ms/step - loss: 0.2488 - accuracy: 0.9835 - val_loss: 0.2833 - val_accuracy: 0.9670\n",
            "Epoch 39/100\n",
            "12/12 [==============================] - 0s 7ms/step - loss: 0.2472 - accuracy: 0.9835 - val_loss: 0.2833 - val_accuracy: 0.9451\n",
            "Epoch 40/100\n",
            "12/12 [==============================] - 0s 6ms/step - loss: 0.2457 - accuracy: 0.9835 - val_loss: 0.2814 - val_accuracy: 0.9560\n",
            "Epoch 41/100\n",
            "12/12 [==============================] - 0s 7ms/step - loss: 0.2439 - accuracy: 0.9835 - val_loss: 0.2802 - val_accuracy: 0.9451\n",
            "Epoch 42/100\n",
            "12/12 [==============================] - 0s 6ms/step - loss: 0.2420 - accuracy: 0.9835 - val_loss: 0.2788 - val_accuracy: 0.9451\n",
            "Epoch 43/100\n",
            "12/12 [==============================] - 0s 7ms/step - loss: 0.2402 - accuracy: 0.9835 - val_loss: 0.2778 - val_accuracy: 0.9451\n",
            "Epoch 44/100\n",
            "12/12 [==============================] - 0s 9ms/step - loss: 0.2388 - accuracy: 0.9835 - val_loss: 0.2763 - val_accuracy: 0.9451\n",
            "Epoch 45/100\n",
            "12/12 [==============================] - 0s 8ms/step - loss: 0.2375 - accuracy: 0.9835 - val_loss: 0.2748 - val_accuracy: 0.9451\n",
            "Epoch 46/100\n",
            "12/12 [==============================] - 0s 6ms/step - loss: 0.2359 - accuracy: 0.9835 - val_loss: 0.2733 - val_accuracy: 0.9451\n",
            "Epoch 47/100\n",
            "12/12 [==============================] - 0s 7ms/step - loss: 0.2346 - accuracy: 0.9835 - val_loss: 0.2723 - val_accuracy: 0.9451\n",
            "Epoch 48/100\n",
            "12/12 [==============================] - 0s 6ms/step - loss: 0.2331 - accuracy: 0.9835 - val_loss: 0.2710 - val_accuracy: 0.9451\n",
            "Epoch 49/100\n",
            "12/12 [==============================] - 0s 7ms/step - loss: 0.2317 - accuracy: 0.9835 - val_loss: 0.2701 - val_accuracy: 0.9451\n",
            "Epoch 50/100\n",
            "12/12 [==============================] - 0s 7ms/step - loss: 0.2308 - accuracy: 0.9835 - val_loss: 0.2688 - val_accuracy: 0.9451\n",
            "Epoch 51/100\n",
            "12/12 [==============================] - 0s 8ms/step - loss: 0.2291 - accuracy: 0.9835 - val_loss: 0.2673 - val_accuracy: 0.9451\n",
            "Epoch 52/100\n",
            "12/12 [==============================] - 0s 7ms/step - loss: 0.2278 - accuracy: 0.9835 - val_loss: 0.2669 - val_accuracy: 0.9451\n",
            "Epoch 53/100\n",
            "12/12 [==============================] - 0s 7ms/step - loss: 0.2268 - accuracy: 0.9835 - val_loss: 0.2651 - val_accuracy: 0.9451\n",
            "Epoch 54/100\n",
            "12/12 [==============================] - 0s 6ms/step - loss: 0.2252 - accuracy: 0.9835 - val_loss: 0.2639 - val_accuracy: 0.9451\n",
            "Epoch 55/100\n",
            "12/12 [==============================] - 0s 7ms/step - loss: 0.2241 - accuracy: 0.9835 - val_loss: 0.2630 - val_accuracy: 0.9451\n",
            "Epoch 56/100\n",
            "12/12 [==============================] - 0s 8ms/step - loss: 0.2229 - accuracy: 0.9835 - val_loss: 0.2620 - val_accuracy: 0.9451\n",
            "Epoch 57/100\n",
            "12/12 [==============================] - 0s 7ms/step - loss: 0.2219 - accuracy: 0.9835 - val_loss: 0.2615 - val_accuracy: 0.9451\n",
            "Epoch 58/100\n",
            "12/12 [==============================] - 0s 6ms/step - loss: 0.2207 - accuracy: 0.9835 - val_loss: 0.2596 - val_accuracy: 0.9451\n",
            "Epoch 59/100\n",
            "12/12 [==============================] - 0s 8ms/step - loss: 0.2196 - accuracy: 0.9835 - val_loss: 0.2586 - val_accuracy: 0.9451\n",
            "Epoch 60/100\n",
            "12/12 [==============================] - 0s 7ms/step - loss: 0.2189 - accuracy: 0.9835 - val_loss: 0.2579 - val_accuracy: 0.9451\n",
            "Epoch 61/100\n",
            "12/12 [==============================] - 0s 7ms/step - loss: 0.2179 - accuracy: 0.9835 - val_loss: 0.2573 - val_accuracy: 0.9451\n",
            "Epoch 62/100\n",
            "12/12 [==============================] - 0s 8ms/step - loss: 0.2174 - accuracy: 0.9835 - val_loss: 0.2557 - val_accuracy: 0.9451\n",
            "Epoch 63/100\n",
            "12/12 [==============================] - 0s 7ms/step - loss: 0.2156 - accuracy: 0.9835 - val_loss: 0.2553 - val_accuracy: 0.9451\n",
            "Epoch 64/100\n",
            "12/12 [==============================] - 0s 8ms/step - loss: 0.2151 - accuracy: 0.9835 - val_loss: 0.2551 - val_accuracy: 0.9451\n",
            "Epoch 65/100\n",
            "12/12 [==============================] - 0s 7ms/step - loss: 0.2140 - accuracy: 0.9835 - val_loss: 0.2541 - val_accuracy: 0.9451\n",
            "Epoch 66/100\n",
            "12/12 [==============================] - 0s 7ms/step - loss: 0.2131 - accuracy: 0.9835 - val_loss: 0.2520 - val_accuracy: 0.9451\n",
            "Epoch 67/100\n",
            "12/12 [==============================] - 0s 8ms/step - loss: 0.2123 - accuracy: 0.9835 - val_loss: 0.2516 - val_accuracy: 0.9341\n",
            "Epoch 68/100\n",
            "12/12 [==============================] - 0s 7ms/step - loss: 0.2110 - accuracy: 0.9835 - val_loss: 0.2506 - val_accuracy: 0.9451\n",
            "Epoch 69/100\n",
            "12/12 [==============================] - 0s 7ms/step - loss: 0.2101 - accuracy: 0.9835 - val_loss: 0.2504 - val_accuracy: 0.9451\n",
            "Epoch 70/100\n",
            "12/12 [==============================] - 0s 8ms/step - loss: 0.2091 - accuracy: 0.9835 - val_loss: 0.2489 - val_accuracy: 0.9451\n",
            "Epoch 71/100\n",
            "12/12 [==============================] - 0s 8ms/step - loss: 0.2088 - accuracy: 0.9835 - val_loss: 0.2489 - val_accuracy: 0.9451\n",
            "Epoch 72/100\n",
            "12/12 [==============================] - 0s 8ms/step - loss: 0.2077 - accuracy: 0.9835 - val_loss: 0.2472 - val_accuracy: 0.9451\n",
            "Epoch 73/100\n",
            "12/12 [==============================] - 0s 7ms/step - loss: 0.2067 - accuracy: 0.9835 - val_loss: 0.2458 - val_accuracy: 0.9451\n",
            "Epoch 74/100\n",
            "12/12 [==============================] - 0s 8ms/step - loss: 0.2062 - accuracy: 0.9835 - val_loss: 0.2456 - val_accuracy: 0.9451\n",
            "Epoch 75/100\n",
            "12/12 [==============================] - 0s 6ms/step - loss: 0.2059 - accuracy: 0.9835 - val_loss: 0.2456 - val_accuracy: 0.9451\n",
            "Epoch 76/100\n",
            "12/12 [==============================] - 0s 7ms/step - loss: 0.2051 - accuracy: 0.9835 - val_loss: 0.2441 - val_accuracy: 0.9451\n",
            "Epoch 77/100\n",
            "12/12 [==============================] - 0s 8ms/step - loss: 0.2039 - accuracy: 0.9835 - val_loss: 0.2429 - val_accuracy: 0.9451\n",
            "Epoch 78/100\n",
            "12/12 [==============================] - 0s 6ms/step - loss: 0.2033 - accuracy: 0.9835 - val_loss: 0.2420 - val_accuracy: 0.9451\n",
            "Epoch 79/100\n",
            "12/12 [==============================] - 0s 6ms/step - loss: 0.2022 - accuracy: 0.9835 - val_loss: 0.2409 - val_accuracy: 0.9451\n",
            "Epoch 80/100\n",
            "12/12 [==============================] - 0s 8ms/step - loss: 0.2021 - accuracy: 0.9835 - val_loss: 0.2414 - val_accuracy: 0.9451\n",
            "Epoch 81/100\n",
            "12/12 [==============================] - 0s 12ms/step - loss: 0.2011 - accuracy: 0.9835 - val_loss: 0.2401 - val_accuracy: 0.9451\n",
            "Epoch 82/100\n",
            "12/12 [==============================] - 0s 7ms/step - loss: 0.2004 - accuracy: 0.9835 - val_loss: 0.2398 - val_accuracy: 0.9451\n",
            "Epoch 83/100\n",
            "12/12 [==============================] - 0s 12ms/step - loss: 0.1998 - accuracy: 0.9835 - val_loss: 0.2399 - val_accuracy: 0.9451\n",
            "Epoch 84/100\n",
            "12/12 [==============================] - 0s 12ms/step - loss: 0.1991 - accuracy: 0.9835 - val_loss: 0.2379 - val_accuracy: 0.9451\n",
            "Epoch 85/100\n",
            "12/12 [==============================] - 0s 14ms/step - loss: 0.1990 - accuracy: 0.9835 - val_loss: 0.2377 - val_accuracy: 0.9451\n",
            "Epoch 86/100\n",
            "12/12 [==============================] - 0s 18ms/step - loss: 0.1979 - accuracy: 0.9835 - val_loss: 0.2378 - val_accuracy: 0.9451\n",
            "Epoch 87/100\n",
            "12/12 [==============================] - 0s 18ms/step - loss: 0.1973 - accuracy: 0.9835 - val_loss: 0.2359 - val_accuracy: 0.9451\n",
            "Epoch 88/100\n",
            "12/12 [==============================] - 0s 19ms/step - loss: 0.1968 - accuracy: 0.9835 - val_loss: 0.2360 - val_accuracy: 0.9451\n",
            "Epoch 89/100\n",
            "12/12 [==============================] - 0s 13ms/step - loss: 0.1962 - accuracy: 0.9835 - val_loss: 0.2342 - val_accuracy: 0.9451\n",
            "Epoch 90/100\n",
            "12/12 [==============================] - 0s 7ms/step - loss: 0.1954 - accuracy: 0.9835 - val_loss: 0.2333 - val_accuracy: 0.9451\n",
            "Epoch 91/100\n",
            "12/12 [==============================] - 0s 8ms/step - loss: 0.1942 - accuracy: 0.9835 - val_loss: 0.2337 - val_accuracy: 0.9451\n",
            "Epoch 92/100\n",
            "12/12 [==============================] - 0s 7ms/step - loss: 0.1936 - accuracy: 0.9835 - val_loss: 0.2332 - val_accuracy: 0.9451\n",
            "Epoch 93/100\n",
            "12/12 [==============================] - 0s 8ms/step - loss: 0.1929 - accuracy: 0.9835 - val_loss: 0.2329 - val_accuracy: 0.9451\n",
            "Epoch 94/100\n",
            "12/12 [==============================] - 0s 8ms/step - loss: 0.1924 - accuracy: 0.9835 - val_loss: 0.2323 - val_accuracy: 0.9451\n",
            "Epoch 95/100\n",
            "12/12 [==============================] - 0s 6ms/step - loss: 0.1917 - accuracy: 0.9835 - val_loss: 0.2313 - val_accuracy: 0.9451\n",
            "Epoch 96/100\n",
            "12/12 [==============================] - 0s 7ms/step - loss: 0.1917 - accuracy: 0.9835 - val_loss: 0.2306 - val_accuracy: 0.9451\n",
            "Epoch 97/100\n",
            "12/12 [==============================] - 0s 6ms/step - loss: 0.1909 - accuracy: 0.9835 - val_loss: 0.2305 - val_accuracy: 0.9451\n",
            "Epoch 98/100\n",
            "12/12 [==============================] - 0s 7ms/step - loss: 0.1901 - accuracy: 0.9835 - val_loss: 0.2309 - val_accuracy: 0.9451\n",
            "Epoch 99/100\n",
            "12/12 [==============================] - 0s 9ms/step - loss: 0.1896 - accuracy: 0.9835 - val_loss: 0.2298 - val_accuracy: 0.9451\n",
            "Epoch 100/100\n",
            "12/12 [==============================] - 0s 6ms/step - loss: 0.1894 - accuracy: 0.9835 - val_loss: 0.2287 - val_accuracy: 0.9451\n"
          ]
        }
      ]
    },
    {
      "cell_type": "markdown",
      "source": [
        "Model metrics"
      ],
      "metadata": {
        "id": "-cZPQn3iBc1t"
      }
    },
    {
      "cell_type": "code",
      "source": [
        "plt.plot(mt.history['accuracy'])\n",
        "plt.plot(mt.history['val_accuracy'])\n",
        "plt.title('Model Accuracy-L1 Regularization')\n",
        "plt.xlabel('Epoch')\n",
        "plt.ylabel('Accuracy')\n",
        "plt.legend(['Train', 'Validation'], loc='upper left')\n",
        "plt.show()"
      ],
      "metadata": {
        "colab": {
          "base_uri": "https://localhost:8080/",
          "height": 472
        },
        "id": "BrrZVm5-BHPG",
        "outputId": "b5124f29-82f2-4b16-d4fc-5b66aeb5a13e"
      },
      "execution_count": null,
      "outputs": [
        {
          "output_type": "display_data",
          "data": {
            "text/plain": [
              "<Figure size 640x480 with 1 Axes>"
            ],
            "image/png": "[encoded data removed]"
          },
          "metadata": {}
        }
      ]
    },
    {
      "cell_type": "code",
      "source": [
        "plt.plot(mt2.history['accuracy'])\n",
        "plt.plot(mt2.history['val_accuracy'])\n",
        "plt.title('Model Accuracy-L2 Regularization')\n",
        "plt.xlabel('Epoch')\n",
        "plt.ylabel('Accuracy')\n",
        "plt.legend(['Train', 'Validation'], loc='upper left')\n",
        "plt.show()"
      ],
      "metadata": {
        "colab": {
          "base_uri": "https://localhost:8080/",
          "height": 472
        },
        "id": "M1z5EoHnGthF",
        "outputId": "9675fb18-8a2f-472b-d73b-f0792ddb0b1c"
      },
      "execution_count": null,
      "outputs": [
        {
          "output_type": "display_data",
          "data": {
            "text/plain": [
              "<Figure size 640x480 with 1 Axes>"
            ],
            "image/png": "[encoded data removed]"
          },
          "metadata": {}
        }
      ]
    },
    {
      "cell_type": "code",
      "source": [
        "plt.plot(mt3.history['accuracy'])\n",
        "plt.plot(mt3.history['val_accuracy'])\n",
        "plt.title('Model Accuracy - Elastic Net')\n",
        "plt.xlabel('Epoch')\n",
        "plt.ylabel('Accuracy')\n",
        "plt.legend(['Train', 'Validation'], loc='upper left')\n",
        "plt.show()"
      ],
      "metadata": {
        "colab": {
          "base_uri": "https://localhost:8080/",
          "height": 472
        },
        "id": "bC7SW4c_Gtrw",
        "outputId": "080fb744-7c4e-4a7f-b5ed-ded797ed2c8f"
      },
      "execution_count": null,
      "outputs": [
        {
          "output_type": "display_data",
          "data": {
            "text/plain": [
              "<Figure size 640x480 with 1 Axes>"
            ],
            "image/png": "[encoded data removed]"
          },
          "metadata": {}
        }
      ]
    },
    {
      "cell_type": "code",
      "source": [
        "#model 1\n",
        "y_probs = model.predict(X_test)\n",
        "y_pred = (y_probs > 0.5).astype(int)\n",
        "accuracy = accuracy_score(y_test, y_pred)\n",
        "precision = precision_score(y_test, y_pred)\n",
        "recall = recall_score(y_test, y_pred)\n",
        "f1 = f1_score(y_test, y_pred)\n",
        "cf = confusion_matrix(y_test, y_pred)\n",
        "fpr, tpr, thresholds = roc_curve(y_test, model.predict(X_test))\n",
        "roc_auc = auc(fpr, tpr)"
      ],
      "metadata": {
        "colab": {
          "base_uri": "https://localhost:8080/"
        },
        "id": "DZZcJFj_A-L9",
        "outputId": "5219c5dd-9f20-4717-c8f1-e2fb152feb24"
      },
      "execution_count": null,
      "outputs": [
        {
          "output_type": "stream",
          "name": "stdout",
          "text": [
            "4/4 [==============================] - 0s 3ms/step\n",
            "4/4 [==============================] - 0s 3ms/step\n"
          ]
        }
      ]
    },
    {
      "cell_type": "code",
      "source": [
        "#model 2\n",
        "y_probs2 = model2.predict(X_test)\n",
        "y_pred2 = (y_probs2 > 0.5).astype(int)\n",
        "accuracy2 = accuracy_score(y_test, y_pred)\n",
        "precision2 = precision_score(y_test, y_pred)\n",
        "recall2 = recall_score(y_test, y_pred)\n",
        "f12 = f1_score(y_test, y_pred)\n",
        "cf2 = confusion_matrix(y_test, y_pred)\n",
        "fpr2, tpr2, thresholds2 = roc_curve(y_test, model2.predict(X_test))\n",
        "roc_auc2 = auc(fpr2, tpr2)"
      ],
      "metadata": {
        "colab": {
          "base_uri": "https://localhost:8080/"
        },
        "id": "88YIhky2HC98",
        "outputId": "99244e22-aa83-4a6d-f08d-90945891a7a5"
      },
      "execution_count": null,
      "outputs": [
        {
          "output_type": "stream",
          "name": "stdout",
          "text": [
            "4/4 [==============================] - 0s 3ms/step\n",
            "4/4 [==============================] - 0s 3ms/step\n"
          ]
        }
      ]
    },
    {
      "cell_type": "code",
      "source": [
        "#model 3\n",
        "y_probs3 = model3.predict(X_test)\n",
        "y_pred3 = (y_probs3 > 0.5).astype(int)\n",
        "accuracy3 = accuracy_score(y_test, y_pred)\n",
        "precision3 = precision_score(y_test, y_pred)\n",
        "recall3 = recall_score(y_test, y_pred)\n",
        "f13 = f1_score(y_test, y_pred)\n",
        "cf3 = confusion_matrix(y_test, y_pred)\n",
        "fpr3, tpr3, thresholds3 = roc_curve(y_test, model3.predict(X_test))\n",
        "roc_auc3 = auc(fpr3, tpr3)"
      ],
      "metadata": {
        "colab": {
          "base_uri": "https://localhost:8080/"
        },
        "id": "ET13vbr3HKQA",
        "outputId": "d594b807-5849-4e3b-d6fc-9aa12df8dd20"
      },
      "execution_count": null,
      "outputs": [
        {
          "output_type": "stream",
          "name": "stdout",
          "text": [
            "4/4 [==============================] - 0s 2ms/step\n",
            "4/4 [==============================] - 0s 3ms/step\n"
          ]
        }
      ]
    },
    {
      "cell_type": "code",
      "source": [
        "print(\"L1 Regularization\")\n",
        "print(\"Accuracy: \",accuracy)\n",
        "print(\"Precision: \",precision)\n",
        "print(\"Recall: \",recall)\n",
        "print(\"F1 Score: \",f1)\n",
        "\n",
        "print(\"\\nL2 Regularization\")\n",
        "print(\"Accuracy: \",accuracy2)\n",
        "print(\"Precision: \",precision2)\n",
        "print(\"Recall: \",recall2)\n",
        "print(\"F1 Score: \",f12)\n",
        "\n",
        "print(\"\\nElastic Net\")\n",
        "print(\"Accuracy: \",accuracy3)\n",
        "print(\"Precision: \",precision3)\n",
        "print(\"Recall: \",recall3)\n",
        "print(\"F1 Score: \",f13)"
      ],
      "metadata": {
        "colab": {
          "base_uri": "https://localhost:8080/"
        },
        "id": "cgkC3sNJDczh",
        "outputId": "b3cfbe67-f768-4233-f7fe-d3ee391a8ba3"
      },
      "execution_count": null,
      "outputs": [
        {
          "output_type": "stream",
          "name": "stdout",
          "text": [
            "L1 Regularization\n",
            "Accuracy:  0.9736842105263158\n",
            "Precision:  0.9761904761904762\n",
            "Recall:  0.9534883720930233\n",
            "F1 Score:  0.9647058823529412\n",
            "\n",
            "L2 Regularization\n",
            "Accuracy:  0.9736842105263158\n",
            "Precision:  0.9761904761904762\n",
            "Recall:  0.9534883720930233\n",
            "F1 Score:  0.9647058823529412\n",
            "\n",
            "Elastic Net\n",
            "Accuracy:  0.9736842105263158\n",
            "Precision:  0.9761904761904762\n",
            "Recall:  0.9534883720930233\n",
            "F1 Score:  0.9647058823529412\n"
          ]
        }
      ]
    },
    {
      "cell_type": "code",
      "source": [
        "fig, axes = plt.subplots(1, 3, figsize=(18, 6))\n",
        "\n",
        "# L1 Regularization\n",
        "sns.heatmap(cf, annot=True, fmt='d', cmap='Blues', linewidths=.5, annot_kws={\"size\": 16}, ax=axes[0])\n",
        "axes[0].set_title('Confusion Matrix - L1 Regularization')\n",
        "axes[0].set_xlabel('Predicted Label')\n",
        "axes[0].set_ylabel('True Label')\n",
        "\n",
        "# L2 Regularization\n",
        "sns.heatmap(cf2, annot=True, fmt='d', cmap='Blues', linewidths=.5, annot_kws={\"size\": 16}, ax=axes[1])\n",
        "axes[1].set_title('Confusion Matrix - L2 Regularization')\n",
        "axes[1].set_xlabel('Predicted Label')\n",
        "axes[1].set_ylabel('True Label')\n",
        "\n",
        "# Elastic Net\n",
        "sns.heatmap(cf3, annot=True, fmt='d', cmap='Blues', linewidths=.5, annot_kws={\"size\": 16}, ax=axes[2])\n",
        "axes[2].set_title('Confusion Matrix - Elastic Net Regularization')\n",
        "axes[2].set_xlabel('Predicted Label')\n",
        "axes[2].set_ylabel('True Label')\n",
        "\n",
        "plt.show()"
      ],
      "metadata": {
        "colab": {
          "base_uri": "https://localhost:8080/",
          "height": 502
        },
        "id": "cSWp9ouqI0nq",
        "outputId": "53f364bd-818a-4e0f-9260-bf2dda199a90"
      },
      "execution_count": null,
      "outputs": [
        {
          "output_type": "display_data",
          "data": {
            "text/plain": [
              "<Figure size 1800x600 with 6 Axes>"
            ],
            "image/png": "[encoded data removed]"
          },
          "metadata": {}
        }
      ]
    },
    {
      "cell_type": "code",
      "source": [
        "# ROC Curve\n",
        "plt.plot(fpr, tpr, color='darkorange', lw=2, label='ROC curve (area = %0.2f)' % roc_auc)\n",
        "plt.plot([0, 1], [0, 1], color='navy', lw=2, linestyle='--')\n",
        "plt.xlabel('False Positive Rate')\n",
        "plt.ylabel('True Positive Rate')\n",
        "plt.title('Receiver Operating Characteristic (ROC) Curve')\n",
        "plt.legend(loc='lower right')\n",
        "plt.show()"
      ],
      "metadata": {
        "colab": {
          "base_uri": "https://localhost:8080/",
          "height": 472
        },
        "id": "lPdB5CzJCyhg",
        "outputId": "b89f34fe-3252-4641-e511-e06a042726f5"
      },
      "execution_count": null,
      "outputs": [
        {
          "output_type": "display_data",
          "data": {
            "text/plain": [
              "<Figure size 640x480 with 1 Axes>"
            ],
            "image/png": "[encoded data removed]"
          },
          "metadata": {}
        }
      ]
    },
    {
      "cell_type": "code",
      "source": [
        "plt.figure(figsize=(18, 6))\n",
        "\n",
        "# L1 Regularization\n",
        "plt.subplot(1, 3, 1)\n",
        "plt.plot(fpr, tpr, color='darkorange', lw=2, label='ROC curve (area = %0.2f)' % roc_auc)\n",
        "plt.plot([0, 1], [0, 1], color='navy', lw=2, linestyle='--')\n",
        "plt.xlabel('False Positive Rate')\n",
        "plt.ylabel('True Positive Rate')\n",
        "plt.title('ROC Curve - L1 Regularization')\n",
        "plt.legend(loc='lower right')\n",
        "\n",
        "# L2 Regularization\n",
        "plt.subplot(1, 3, 2)\n",
        "plt.plot(fpr2, tpr2, color='darkorange', lw=2, label='ROC curve (area = %0.2f)' % roc_auc2)\n",
        "plt.plot([0, 1], [0, 1], color='navy', lw=2, linestyle='--')\n",
        "plt.xlabel('False Positive Rate')\n",
        "plt.ylabel('True Positive Rate')\n",
        "plt.title('ROC Curve - L2 Regularization')\n",
        "plt.legend(loc='lower right')\n",
        "\n",
        "# Elastic Net\n",
        "plt.subplot(1, 3, 3)\n",
        "plt.plot(fpr3, tpr3, color='darkorange', lw=2, label='ROC curve (area = %0.2f)' % roc_auc3)\n",
        "plt.plot([0, 1], [0, 1], color='navy', lw=2, linestyle='--')\n",
        "plt.xlabel('False Positive Rate')\n",
        "plt.ylabel('True Positive Rate')\n",
        "plt.title('ROC Curve - Elastic Net Regularization')\n",
        "plt.legend(loc='lower right')\n",
        "\n",
        "plt.show()"
      ],
      "metadata": {
        "colab": {
          "base_uri": "https://localhost:8080/",
          "height": 495
        },
        "id": "s3vITmyvJQ03",
        "outputId": "493be088-3317-47b2-de97-8cc85a6bc496"
      },
      "execution_count": null,
      "outputs": [
        {
          "output_type": "display_data",
          "data": {
            "text/plain": [
              "<Figure size 1800x600 with 3 Axes>"
            ],
            "image/png": "[encoded data removed]"
          },
          "metadata": {}
        }
      ]
    },
    {
      "cell_type": "markdown",
      "source": [
        "Due to high Epochs(100) our all 3 models have arounf the same accuracy.\n",
        "There confusion matrix value is also same.\n",
        "From observation we can say that the models have the same accuracy. The difference is iterations in which they are achieving this."
      ],
      "metadata": {
        "id": "C_VSONJVJjmt"
      }
    },
    {
      "cell_type": "code",
      "source": [],
      "metadata": {
        "id": "VzVHgTXKDMqY"
      },
      "execution_count": null,
      "outputs": []
    }
  ]
}